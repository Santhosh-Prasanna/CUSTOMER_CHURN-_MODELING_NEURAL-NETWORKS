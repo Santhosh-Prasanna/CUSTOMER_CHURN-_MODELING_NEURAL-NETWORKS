{
  "nbformat": 4,
  "nbformat_minor": 0,
  "metadata": {
    "colab": {
      "provenance": [],
      "collapsed_sections": []
    },
    "kernelspec": {
      "name": "python3",
      "display_name": "Python 3"
    },
    "language_info": {
      "name": "python"
    }
  },
  "cells": [
    {
      "cell_type": "markdown",
      "source": [
        "\n",
        "### **COUSTMER** **EXIT** **PREDICTION** **FROM BANK** -**USING** **MACHINE** **LEARNING** **AND** **ARTIFICAL** **NEURAL** **NETWORKS**\n",
        "\n"
      ],
      "metadata": {
        "id": "mndApmoX7APP"
      }
    },
    {
      "cell_type": "markdown",
      "source": [
        "## **Dataset** : *Kaggle*"
      ],
      "metadata": {
        "id": "EGO_t8et7kYs"
      }
    },
    {
      "cell_type": "code",
      "execution_count": null,
      "metadata": {
        "id": "rIJs6ViikBJb"
      },
      "outputs": [],
      "source": [
        "#required Libraries\n",
        "import pandas as pd\n",
        "import numpy as np\n",
        "import matplotlib.pyplot as plt\n",
        "import seaborn as sns\n",
        "import os"
      ]
    },
    {
      "cell_type": "code",
      "source": [
        "df=pd.read_csv(\"/content/Churn_Modelling.csv\")"
      ],
      "metadata": {
        "id": "oIP7Ur1ik0Eb"
      },
      "execution_count": null,
      "outputs": []
    },
    {
      "cell_type": "code",
      "source": [
        "df.head()"
      ],
      "metadata": {
        "colab": {
          "base_uri": "https://localhost:8080/",
          "height": 270
        },
        "id": "8xhCDirnk7k2",
        "outputId": "d024ed2b-bf15-457e-d295-fdb29c6cfb39"
      },
      "execution_count": null,
      "outputs": [
        {
          "output_type": "execute_result",
          "data": {
            "text/plain": [
              "   RowNumber  CustomerId   Surname  CreditScore Geography  Gender  Age  \\\n",
              "0          1    15634602  Hargrave          619    France  Female   42   \n",
              "1          2    15647311      Hill          608     Spain  Female   41   \n",
              "2          3    15619304      Onio          502    France  Female   42   \n",
              "3          4    15701354      Boni          699    France  Female   39   \n",
              "4          5    15737888  Mitchell          850     Spain  Female   43   \n",
              "\n",
              "   Tenure    Balance  NumOfProducts  HasCrCard  IsActiveMember  \\\n",
              "0       2       0.00              1          1               1   \n",
              "1       1   83807.86              1          0               1   \n",
              "2       8  159660.80              3          1               0   \n",
              "3       1       0.00              2          0               0   \n",
              "4       2  125510.82              1          1               1   \n",
              "\n",
              "   EstimatedSalary  Exited  \n",
              "0        101348.88       1  \n",
              "1        112542.58       0  \n",
              "2        113931.57       1  \n",
              "3         93826.63       0  \n",
              "4         79084.10       0  "
            ],
            "text/html": [
              "\n",
              "  <div id=\"df-0bfce7e9-90c0-4a24-a01a-4114b033fbae\">\n",
              "    <div class=\"colab-df-container\">\n",
              "      <div>\n",
              "<style scoped>\n",
              "    .dataframe tbody tr th:only-of-type {\n",
              "        vertical-align: middle;\n",
              "    }\n",
              "\n",
              "    .dataframe tbody tr th {\n",
              "        vertical-align: top;\n",
              "    }\n",
              "\n",
              "    .dataframe thead th {\n",
              "        text-align: right;\n",
              "    }\n",
              "</style>\n",
              "<table border=\"1\" class=\"dataframe\">\n",
              "  <thead>\n",
              "    <tr style=\"text-align: right;\">\n",
              "      <th></th>\n",
              "      <th>RowNumber</th>\n",
              "      <th>CustomerId</th>\n",
              "      <th>Surname</th>\n",
              "      <th>CreditScore</th>\n",
              "      <th>Geography</th>\n",
              "      <th>Gender</th>\n",
              "      <th>Age</th>\n",
              "      <th>Tenure</th>\n",
              "      <th>Balance</th>\n",
              "      <th>NumOfProducts</th>\n",
              "      <th>HasCrCard</th>\n",
              "      <th>IsActiveMember</th>\n",
              "      <th>EstimatedSalary</th>\n",
              "      <th>Exited</th>\n",
              "    </tr>\n",
              "  </thead>\n",
              "  <tbody>\n",
              "    <tr>\n",
              "      <th>0</th>\n",
              "      <td>1</td>\n",
              "      <td>15634602</td>\n",
              "      <td>Hargrave</td>\n",
              "      <td>619</td>\n",
              "      <td>France</td>\n",
              "      <td>Female</td>\n",
              "      <td>42</td>\n",
              "      <td>2</td>\n",
              "      <td>0.00</td>\n",
              "      <td>1</td>\n",
              "      <td>1</td>\n",
              "      <td>1</td>\n",
              "      <td>101348.88</td>\n",
              "      <td>1</td>\n",
              "    </tr>\n",
              "    <tr>\n",
              "      <th>1</th>\n",
              "      <td>2</td>\n",
              "      <td>15647311</td>\n",
              "      <td>Hill</td>\n",
              "      <td>608</td>\n",
              "      <td>Spain</td>\n",
              "      <td>Female</td>\n",
              "      <td>41</td>\n",
              "      <td>1</td>\n",
              "      <td>83807.86</td>\n",
              "      <td>1</td>\n",
              "      <td>0</td>\n",
              "      <td>1</td>\n",
              "      <td>112542.58</td>\n",
              "      <td>0</td>\n",
              "    </tr>\n",
              "    <tr>\n",
              "      <th>2</th>\n",
              "      <td>3</td>\n",
              "      <td>15619304</td>\n",
              "      <td>Onio</td>\n",
              "      <td>502</td>\n",
              "      <td>France</td>\n",
              "      <td>Female</td>\n",
              "      <td>42</td>\n",
              "      <td>8</td>\n",
              "      <td>159660.80</td>\n",
              "      <td>3</td>\n",
              "      <td>1</td>\n",
              "      <td>0</td>\n",
              "      <td>113931.57</td>\n",
              "      <td>1</td>\n",
              "    </tr>\n",
              "    <tr>\n",
              "      <th>3</th>\n",
              "      <td>4</td>\n",
              "      <td>15701354</td>\n",
              "      <td>Boni</td>\n",
              "      <td>699</td>\n",
              "      <td>France</td>\n",
              "      <td>Female</td>\n",
              "      <td>39</td>\n",
              "      <td>1</td>\n",
              "      <td>0.00</td>\n",
              "      <td>2</td>\n",
              "      <td>0</td>\n",
              "      <td>0</td>\n",
              "      <td>93826.63</td>\n",
              "      <td>0</td>\n",
              "    </tr>\n",
              "    <tr>\n",
              "      <th>4</th>\n",
              "      <td>5</td>\n",
              "      <td>15737888</td>\n",
              "      <td>Mitchell</td>\n",
              "      <td>850</td>\n",
              "      <td>Spain</td>\n",
              "      <td>Female</td>\n",
              "      <td>43</td>\n",
              "      <td>2</td>\n",
              "      <td>125510.82</td>\n",
              "      <td>1</td>\n",
              "      <td>1</td>\n",
              "      <td>1</td>\n",
              "      <td>79084.10</td>\n",
              "      <td>0</td>\n",
              "    </tr>\n",
              "  </tbody>\n",
              "</table>\n",
              "</div>\n",
              "      <button class=\"colab-df-convert\" onclick=\"convertToInteractive('df-0bfce7e9-90c0-4a24-a01a-4114b033fbae')\"\n",
              "              title=\"Convert this dataframe to an interactive table.\"\n",
              "              style=\"display:none;\">\n",
              "        \n",
              "  <svg xmlns=\"http://www.w3.org/2000/svg\" height=\"24px\"viewBox=\"0 0 24 24\"\n",
              "       width=\"24px\">\n",
              "    <path d=\"M0 0h24v24H0V0z\" fill=\"none\"/>\n",
              "    <path d=\"M18.56 5.44l.94 2.06.94-2.06 2.06-.94-2.06-.94-.94-2.06-.94 2.06-2.06.94zm-11 1L8.5 8.5l.94-2.06 2.06-.94-2.06-.94L8.5 2.5l-.94 2.06-2.06.94zm10 10l.94 2.06.94-2.06 2.06-.94-2.06-.94-.94-2.06-.94 2.06-2.06.94z\"/><path d=\"M17.41 7.96l-1.37-1.37c-.4-.4-.92-.59-1.43-.59-.52 0-1.04.2-1.43.59L10.3 9.45l-7.72 7.72c-.78.78-.78 2.05 0 2.83L4 21.41c.39.39.9.59 1.41.59.51 0 1.02-.2 1.41-.59l7.78-7.78 2.81-2.81c.8-.78.8-2.07 0-2.86zM5.41 20L4 18.59l7.72-7.72 1.47 1.35L5.41 20z\"/>\n",
              "  </svg>\n",
              "      </button>\n",
              "      \n",
              "  <style>\n",
              "    .colab-df-container {\n",
              "      display:flex;\n",
              "      flex-wrap:wrap;\n",
              "      gap: 12px;\n",
              "    }\n",
              "\n",
              "    .colab-df-convert {\n",
              "      background-color: #E8F0FE;\n",
              "      border: none;\n",
              "      border-radius: 50%;\n",
              "      cursor: pointer;\n",
              "      display: none;\n",
              "      fill: #1967D2;\n",
              "      height: 32px;\n",
              "      padding: 0 0 0 0;\n",
              "      width: 32px;\n",
              "    }\n",
              "\n",
              "    .colab-df-convert:hover {\n",
              "      background-color: #E2EBFA;\n",
              "      box-shadow: 0px 1px 2px rgba(60, 64, 67, 0.3), 0px 1px 3px 1px rgba(60, 64, 67, 0.15);\n",
              "      fill: #174EA6;\n",
              "    }\n",
              "\n",
              "    [theme=dark] .colab-df-convert {\n",
              "      background-color: #3B4455;\n",
              "      fill: #D2E3FC;\n",
              "    }\n",
              "\n",
              "    [theme=dark] .colab-df-convert:hover {\n",
              "      background-color: #434B5C;\n",
              "      box-shadow: 0px 1px 3px 1px rgba(0, 0, 0, 0.15);\n",
              "      filter: drop-shadow(0px 1px 2px rgba(0, 0, 0, 0.3));\n",
              "      fill: #FFFFFF;\n",
              "    }\n",
              "  </style>\n",
              "\n",
              "      <script>\n",
              "        const buttonEl =\n",
              "          document.querySelector('#df-0bfce7e9-90c0-4a24-a01a-4114b033fbae button.colab-df-convert');\n",
              "        buttonEl.style.display =\n",
              "          google.colab.kernel.accessAllowed ? 'block' : 'none';\n",
              "\n",
              "        async function convertToInteractive(key) {\n",
              "          const element = document.querySelector('#df-0bfce7e9-90c0-4a24-a01a-4114b033fbae');\n",
              "          const dataTable =\n",
              "            await google.colab.kernel.invokeFunction('convertToInteractive',\n",
              "                                                     [key], {});\n",
              "          if (!dataTable) return;\n",
              "\n",
              "          const docLinkHtml = 'Like what you see? Visit the ' +\n",
              "            '<a target=\"_blank\" href=https://colab.research.google.com/notebooks/data_table.ipynb>data table notebook</a>'\n",
              "            + ' to learn more about interactive tables.';\n",
              "          element.innerHTML = '';\n",
              "          dataTable['output_type'] = 'display_data';\n",
              "          await google.colab.output.renderOutput(dataTable, element);\n",
              "          const docLink = document.createElement('div');\n",
              "          docLink.innerHTML = docLinkHtml;\n",
              "          element.appendChild(docLink);\n",
              "        }\n",
              "      </script>\n",
              "    </div>\n",
              "  </div>\n",
              "  "
            ]
          },
          "metadata": {},
          "execution_count": 3
        }
      ]
    },
    {
      "cell_type": "code",
      "source": [
        "df.info()"
      ],
      "metadata": {
        "colab": {
          "base_uri": "https://localhost:8080/"
        },
        "id": "40YNKzz_k9gm",
        "outputId": "2622758e-8d39-4c45-8410-04cf1b5b295a"
      },
      "execution_count": null,
      "outputs": [
        {
          "output_type": "stream",
          "name": "stdout",
          "text": [
            "<class 'pandas.core.frame.DataFrame'>\n",
            "RangeIndex: 10000 entries, 0 to 9999\n",
            "Data columns (total 14 columns):\n",
            " #   Column           Non-Null Count  Dtype  \n",
            "---  ------           --------------  -----  \n",
            " 0   RowNumber        10000 non-null  int64  \n",
            " 1   CustomerId       10000 non-null  int64  \n",
            " 2   Surname          10000 non-null  object \n",
            " 3   CreditScore      10000 non-null  int64  \n",
            " 4   Geography        10000 non-null  object \n",
            " 5   Gender           10000 non-null  object \n",
            " 6   Age              10000 non-null  int64  \n",
            " 7   Tenure           10000 non-null  int64  \n",
            " 8   Balance          10000 non-null  float64\n",
            " 9   NumOfProducts    10000 non-null  int64  \n",
            " 10  HasCrCard        10000 non-null  int64  \n",
            " 11  IsActiveMember   10000 non-null  int64  \n",
            " 12  EstimatedSalary  10000 non-null  float64\n",
            " 13  Exited           10000 non-null  int64  \n",
            "dtypes: float64(2), int64(9), object(3)\n",
            "memory usage: 1.1+ MB\n"
          ]
        }
      ]
    },
    {
      "cell_type": "code",
      "source": [
        "df.describe()"
      ],
      "metadata": {
        "colab": {
          "base_uri": "https://localhost:8080/",
          "height": 364
        },
        "id": "WddEDvAMlJTU",
        "outputId": "72ddeedb-c4b6-4160-a25d-d755fc1052ab"
      },
      "execution_count": null,
      "outputs": [
        {
          "output_type": "execute_result",
          "data": {
            "text/plain": [
              "         RowNumber    CustomerId   CreditScore           Age        Tenure  \\\n",
              "count  10000.00000  1.000000e+04  10000.000000  10000.000000  10000.000000   \n",
              "mean    5000.50000  1.569094e+07    650.528800     38.921800      5.012800   \n",
              "std     2886.89568  7.193619e+04     96.653299     10.487806      2.892174   \n",
              "min        1.00000  1.556570e+07    350.000000     18.000000      0.000000   \n",
              "25%     2500.75000  1.562853e+07    584.000000     32.000000      3.000000   \n",
              "50%     5000.50000  1.569074e+07    652.000000     37.000000      5.000000   \n",
              "75%     7500.25000  1.575323e+07    718.000000     44.000000      7.000000   \n",
              "max    10000.00000  1.581569e+07    850.000000     92.000000     10.000000   \n",
              "\n",
              "             Balance  NumOfProducts    HasCrCard  IsActiveMember  \\\n",
              "count   10000.000000   10000.000000  10000.00000    10000.000000   \n",
              "mean    76485.889288       1.530200      0.70550        0.515100   \n",
              "std     62397.405202       0.581654      0.45584        0.499797   \n",
              "min         0.000000       1.000000      0.00000        0.000000   \n",
              "25%         0.000000       1.000000      0.00000        0.000000   \n",
              "50%     97198.540000       1.000000      1.00000        1.000000   \n",
              "75%    127644.240000       2.000000      1.00000        1.000000   \n",
              "max    250898.090000       4.000000      1.00000        1.000000   \n",
              "\n",
              "       EstimatedSalary        Exited  \n",
              "count     10000.000000  10000.000000  \n",
              "mean     100090.239881      0.203700  \n",
              "std       57510.492818      0.402769  \n",
              "min          11.580000      0.000000  \n",
              "25%       51002.110000      0.000000  \n",
              "50%      100193.915000      0.000000  \n",
              "75%      149388.247500      0.000000  \n",
              "max      199992.480000      1.000000  "
            ],
            "text/html": [
              "\n",
              "  <div id=\"df-e0a8b029-0a87-4ae4-80b7-84f3e1d7bde7\">\n",
              "    <div class=\"colab-df-container\">\n",
              "      <div>\n",
              "<style scoped>\n",
              "    .dataframe tbody tr th:only-of-type {\n",
              "        vertical-align: middle;\n",
              "    }\n",
              "\n",
              "    .dataframe tbody tr th {\n",
              "        vertical-align: top;\n",
              "    }\n",
              "\n",
              "    .dataframe thead th {\n",
              "        text-align: right;\n",
              "    }\n",
              "</style>\n",
              "<table border=\"1\" class=\"dataframe\">\n",
              "  <thead>\n",
              "    <tr style=\"text-align: right;\">\n",
              "      <th></th>\n",
              "      <th>RowNumber</th>\n",
              "      <th>CustomerId</th>\n",
              "      <th>CreditScore</th>\n",
              "      <th>Age</th>\n",
              "      <th>Tenure</th>\n",
              "      <th>Balance</th>\n",
              "      <th>NumOfProducts</th>\n",
              "      <th>HasCrCard</th>\n",
              "      <th>IsActiveMember</th>\n",
              "      <th>EstimatedSalary</th>\n",
              "      <th>Exited</th>\n",
              "    </tr>\n",
              "  </thead>\n",
              "  <tbody>\n",
              "    <tr>\n",
              "      <th>count</th>\n",
              "      <td>10000.00000</td>\n",
              "      <td>1.000000e+04</td>\n",
              "      <td>10000.000000</td>\n",
              "      <td>10000.000000</td>\n",
              "      <td>10000.000000</td>\n",
              "      <td>10000.000000</td>\n",
              "      <td>10000.000000</td>\n",
              "      <td>10000.00000</td>\n",
              "      <td>10000.000000</td>\n",
              "      <td>10000.000000</td>\n",
              "      <td>10000.000000</td>\n",
              "    </tr>\n",
              "    <tr>\n",
              "      <th>mean</th>\n",
              "      <td>5000.50000</td>\n",
              "      <td>1.569094e+07</td>\n",
              "      <td>650.528800</td>\n",
              "      <td>38.921800</td>\n",
              "      <td>5.012800</td>\n",
              "      <td>76485.889288</td>\n",
              "      <td>1.530200</td>\n",
              "      <td>0.70550</td>\n",
              "      <td>0.515100</td>\n",
              "      <td>100090.239881</td>\n",
              "      <td>0.203700</td>\n",
              "    </tr>\n",
              "    <tr>\n",
              "      <th>std</th>\n",
              "      <td>2886.89568</td>\n",
              "      <td>7.193619e+04</td>\n",
              "      <td>96.653299</td>\n",
              "      <td>10.487806</td>\n",
              "      <td>2.892174</td>\n",
              "      <td>62397.405202</td>\n",
              "      <td>0.581654</td>\n",
              "      <td>0.45584</td>\n",
              "      <td>0.499797</td>\n",
              "      <td>57510.492818</td>\n",
              "      <td>0.402769</td>\n",
              "    </tr>\n",
              "    <tr>\n",
              "      <th>min</th>\n",
              "      <td>1.00000</td>\n",
              "      <td>1.556570e+07</td>\n",
              "      <td>350.000000</td>\n",
              "      <td>18.000000</td>\n",
              "      <td>0.000000</td>\n",
              "      <td>0.000000</td>\n",
              "      <td>1.000000</td>\n",
              "      <td>0.00000</td>\n",
              "      <td>0.000000</td>\n",
              "      <td>11.580000</td>\n",
              "      <td>0.000000</td>\n",
              "    </tr>\n",
              "    <tr>\n",
              "      <th>25%</th>\n",
              "      <td>2500.75000</td>\n",
              "      <td>1.562853e+07</td>\n",
              "      <td>584.000000</td>\n",
              "      <td>32.000000</td>\n",
              "      <td>3.000000</td>\n",
              "      <td>0.000000</td>\n",
              "      <td>1.000000</td>\n",
              "      <td>0.00000</td>\n",
              "      <td>0.000000</td>\n",
              "      <td>51002.110000</td>\n",
              "      <td>0.000000</td>\n",
              "    </tr>\n",
              "    <tr>\n",
              "      <th>50%</th>\n",
              "      <td>5000.50000</td>\n",
              "      <td>1.569074e+07</td>\n",
              "      <td>652.000000</td>\n",
              "      <td>37.000000</td>\n",
              "      <td>5.000000</td>\n",
              "      <td>97198.540000</td>\n",
              "      <td>1.000000</td>\n",
              "      <td>1.00000</td>\n",
              "      <td>1.000000</td>\n",
              "      <td>100193.915000</td>\n",
              "      <td>0.000000</td>\n",
              "    </tr>\n",
              "    <tr>\n",
              "      <th>75%</th>\n",
              "      <td>7500.25000</td>\n",
              "      <td>1.575323e+07</td>\n",
              "      <td>718.000000</td>\n",
              "      <td>44.000000</td>\n",
              "      <td>7.000000</td>\n",
              "      <td>127644.240000</td>\n",
              "      <td>2.000000</td>\n",
              "      <td>1.00000</td>\n",
              "      <td>1.000000</td>\n",
              "      <td>149388.247500</td>\n",
              "      <td>0.000000</td>\n",
              "    </tr>\n",
              "    <tr>\n",
              "      <th>max</th>\n",
              "      <td>10000.00000</td>\n",
              "      <td>1.581569e+07</td>\n",
              "      <td>850.000000</td>\n",
              "      <td>92.000000</td>\n",
              "      <td>10.000000</td>\n",
              "      <td>250898.090000</td>\n",
              "      <td>4.000000</td>\n",
              "      <td>1.00000</td>\n",
              "      <td>1.000000</td>\n",
              "      <td>199992.480000</td>\n",
              "      <td>1.000000</td>\n",
              "    </tr>\n",
              "  </tbody>\n",
              "</table>\n",
              "</div>\n",
              "      <button class=\"colab-df-convert\" onclick=\"convertToInteractive('df-e0a8b029-0a87-4ae4-80b7-84f3e1d7bde7')\"\n",
              "              title=\"Convert this dataframe to an interactive table.\"\n",
              "              style=\"display:none;\">\n",
              "        \n",
              "  <svg xmlns=\"http://www.w3.org/2000/svg\" height=\"24px\"viewBox=\"0 0 24 24\"\n",
              "       width=\"24px\">\n",
              "    <path d=\"M0 0h24v24H0V0z\" fill=\"none\"/>\n",
              "    <path d=\"M18.56 5.44l.94 2.06.94-2.06 2.06-.94-2.06-.94-.94-2.06-.94 2.06-2.06.94zm-11 1L8.5 8.5l.94-2.06 2.06-.94-2.06-.94L8.5 2.5l-.94 2.06-2.06.94zm10 10l.94 2.06.94-2.06 2.06-.94-2.06-.94-.94-2.06-.94 2.06-2.06.94z\"/><path d=\"M17.41 7.96l-1.37-1.37c-.4-.4-.92-.59-1.43-.59-.52 0-1.04.2-1.43.59L10.3 9.45l-7.72 7.72c-.78.78-.78 2.05 0 2.83L4 21.41c.39.39.9.59 1.41.59.51 0 1.02-.2 1.41-.59l7.78-7.78 2.81-2.81c.8-.78.8-2.07 0-2.86zM5.41 20L4 18.59l7.72-7.72 1.47 1.35L5.41 20z\"/>\n",
              "  </svg>\n",
              "      </button>\n",
              "      \n",
              "  <style>\n",
              "    .colab-df-container {\n",
              "      display:flex;\n",
              "      flex-wrap:wrap;\n",
              "      gap: 12px;\n",
              "    }\n",
              "\n",
              "    .colab-df-convert {\n",
              "      background-color: #E8F0FE;\n",
              "      border: none;\n",
              "      border-radius: 50%;\n",
              "      cursor: pointer;\n",
              "      display: none;\n",
              "      fill: #1967D2;\n",
              "      height: 32px;\n",
              "      padding: 0 0 0 0;\n",
              "      width: 32px;\n",
              "    }\n",
              "\n",
              "    .colab-df-convert:hover {\n",
              "      background-color: #E2EBFA;\n",
              "      box-shadow: 0px 1px 2px rgba(60, 64, 67, 0.3), 0px 1px 3px 1px rgba(60, 64, 67, 0.15);\n",
              "      fill: #174EA6;\n",
              "    }\n",
              "\n",
              "    [theme=dark] .colab-df-convert {\n",
              "      background-color: #3B4455;\n",
              "      fill: #D2E3FC;\n",
              "    }\n",
              "\n",
              "    [theme=dark] .colab-df-convert:hover {\n",
              "      background-color: #434B5C;\n",
              "      box-shadow: 0px 1px 3px 1px rgba(0, 0, 0, 0.15);\n",
              "      filter: drop-shadow(0px 1px 2px rgba(0, 0, 0, 0.3));\n",
              "      fill: #FFFFFF;\n",
              "    }\n",
              "  </style>\n",
              "\n",
              "      <script>\n",
              "        const buttonEl =\n",
              "          document.querySelector('#df-e0a8b029-0a87-4ae4-80b7-84f3e1d7bde7 button.colab-df-convert');\n",
              "        buttonEl.style.display =\n",
              "          google.colab.kernel.accessAllowed ? 'block' : 'none';\n",
              "\n",
              "        async function convertToInteractive(key) {\n",
              "          const element = document.querySelector('#df-e0a8b029-0a87-4ae4-80b7-84f3e1d7bde7');\n",
              "          const dataTable =\n",
              "            await google.colab.kernel.invokeFunction('convertToInteractive',\n",
              "                                                     [key], {});\n",
              "          if (!dataTable) return;\n",
              "\n",
              "          const docLinkHtml = 'Like what you see? Visit the ' +\n",
              "            '<a target=\"_blank\" href=https://colab.research.google.com/notebooks/data_table.ipynb>data table notebook</a>'\n",
              "            + ' to learn more about interactive tables.';\n",
              "          element.innerHTML = '';\n",
              "          dataTable['output_type'] = 'display_data';\n",
              "          await google.colab.output.renderOutput(dataTable, element);\n",
              "          const docLink = document.createElement('div');\n",
              "          docLink.innerHTML = docLinkHtml;\n",
              "          element.appendChild(docLink);\n",
              "        }\n",
              "      </script>\n",
              "    </div>\n",
              "  </div>\n",
              "  "
            ]
          },
          "metadata": {},
          "execution_count": 5
        }
      ]
    },
    {
      "cell_type": "code",
      "source": [
        "df.isnull().sum()"
      ],
      "metadata": {
        "colab": {
          "base_uri": "https://localhost:8080/"
        },
        "id": "_odrcJO2lR48",
        "outputId": "9d6c0c2e-da55-4456-adbc-67fcf73a9016"
      },
      "execution_count": null,
      "outputs": [
        {
          "output_type": "execute_result",
          "data": {
            "text/plain": [
              "RowNumber          0\n",
              "CustomerId         0\n",
              "Surname            0\n",
              "CreditScore        0\n",
              "Geography          0\n",
              "Gender             0\n",
              "Age                0\n",
              "Tenure             0\n",
              "Balance            0\n",
              "NumOfProducts      0\n",
              "HasCrCard          0\n",
              "IsActiveMember     0\n",
              "EstimatedSalary    0\n",
              "Exited             0\n",
              "dtype: int64"
            ]
          },
          "metadata": {},
          "execution_count": 6
        }
      ]
    },
    {
      "cell_type": "code",
      "source": [
        "df.isna().sum()"
      ],
      "metadata": {
        "colab": {
          "base_uri": "https://localhost:8080/"
        },
        "id": "c05fOH9plXD3",
        "outputId": "134fa856-d89b-4bce-81ad-1afd608a4d30"
      },
      "execution_count": null,
      "outputs": [
        {
          "output_type": "execute_result",
          "data": {
            "text/plain": [
              "RowNumber          0\n",
              "CustomerId         0\n",
              "Surname            0\n",
              "CreditScore        0\n",
              "Geography          0\n",
              "Gender             0\n",
              "Age                0\n",
              "Tenure             0\n",
              "Balance            0\n",
              "NumOfProducts      0\n",
              "HasCrCard          0\n",
              "IsActiveMember     0\n",
              "EstimatedSalary    0\n",
              "Exited             0\n",
              "dtype: int64"
            ]
          },
          "metadata": {},
          "execution_count": 7
        }
      ]
    },
    {
      "cell_type": "code",
      "source": [
        "df.duplicated().sum()"
      ],
      "metadata": {
        "colab": {
          "base_uri": "https://localhost:8080/"
        },
        "id": "5vXVMhmYlbEf",
        "outputId": "76ed1b2d-57a6-42af-f96c-d35a178cd323"
      },
      "execution_count": null,
      "outputs": [
        {
          "output_type": "execute_result",
          "data": {
            "text/plain": [
              "0"
            ]
          },
          "metadata": {},
          "execution_count": 8
        }
      ]
    },
    {
      "cell_type": "code",
      "source": [
        "#Data Pre-Processing\n"
      ],
      "metadata": {
        "id": "2A5vuFT-lfz-"
      },
      "execution_count": null,
      "outputs": []
    },
    {
      "cell_type": "code",
      "source": [
        "df_copy = df.copy()\n"
      ],
      "metadata": {
        "id": "6obKVhYmlrIh"
      },
      "execution_count": null,
      "outputs": []
    },
    {
      "cell_type": "code",
      "source": [
        "df.drop(columns=[\"RowNumber\", \"Surname\", \"CustomerId\"], inplace=True)\n"
      ],
      "metadata": {
        "id": "tDBz4-EPlucA"
      },
      "execution_count": null,
      "outputs": []
    },
    {
      "cell_type": "code",
      "source": [
        "df[\"Geography\"].value_counts()\n"
      ],
      "metadata": {
        "colab": {
          "base_uri": "https://localhost:8080/"
        },
        "id": "lS2gS57jlzjP",
        "outputId": "22e2e631-715d-406e-db41-95e7b5448fc2"
      },
      "execution_count": null,
      "outputs": [
        {
          "output_type": "execute_result",
          "data": {
            "text/plain": [
              "France     5014\n",
              "Germany    2509\n",
              "Spain      2477\n",
              "Name: Geography, dtype: int64"
            ]
          },
          "metadata": {},
          "execution_count": 12
        }
      ]
    },
    {
      "cell_type": "code",
      "source": [
        "df[\"Gender\"].value_counts()"
      ],
      "metadata": {
        "colab": {
          "base_uri": "https://localhost:8080/"
        },
        "id": "GJeYqz7rl3NM",
        "outputId": "a4baa57d-c91a-4585-d29b-715900e0449a"
      },
      "execution_count": null,
      "outputs": [
        {
          "output_type": "execute_result",
          "data": {
            "text/plain": [
              "Male      5457\n",
              "Female    4543\n",
              "Name: Gender, dtype: int64"
            ]
          },
          "metadata": {},
          "execution_count": 13
        }
      ]
    },
    {
      "cell_type": "code",
      "source": [
        "sns.histplot(df[\"Age\"], bins=20)\n",
        "plt.show()"
      ],
      "metadata": {
        "colab": {
          "base_uri": "https://localhost:8080/",
          "height": 279
        },
        "id": "7_gMDiwkl8cm",
        "outputId": "67bcdf94-a6f5-4597-8335-b48708145886"
      },
      "execution_count": null,
      "outputs": [
        {
          "output_type": "display_data",
          "data": {
            "text/plain": [
              "<Figure size 432x288 with 1 Axes>"
            ],
            "image/png": "[encoded data removed]"
          },
          "metadata": {
            "needs_background": "light"
          }
        }
      ]
    },
    {
      "cell_type": "code",
      "source": [
        "df_corr = df.corr()\n",
        "df_corr[\"Exited\"].sort_values(ascending=False)"
      ],
      "metadata": {
        "colab": {
          "base_uri": "https://localhost:8080/"
        },
        "id": "omhhGy-vmD3U",
        "outputId": "b9a6ae8e-3265-4ed8-b465-c07880b59d61"
      },
      "execution_count": null,
      "outputs": [
        {
          "output_type": "execute_result",
          "data": {
            "text/plain": [
              "Exited             1.000000\n",
              "Age                0.285323\n",
              "Balance            0.118533\n",
              "EstimatedSalary    0.012097\n",
              "HasCrCard         -0.007138\n",
              "Tenure            -0.014001\n",
              "CreditScore       -0.027094\n",
              "NumOfProducts     -0.047820\n",
              "IsActiveMember    -0.156128\n",
              "Name: Exited, dtype: float64"
            ]
          },
          "metadata": {},
          "execution_count": 15
        }
      ]
    },
    {
      "cell_type": "code",
      "source": [
        "#Converting Categorical variables into Numerical variables\n"
      ],
      "metadata": {
        "id": "Mq8RkBvFmXfJ"
      },
      "execution_count": null,
      "outputs": []
    },
    {
      "cell_type": "code",
      "source": [
        "df.loc[df[\"Geography\"]==\"France\", \"Geography\"] = 1\n",
        "df.loc[df[\"Geography\"]==\"Spain\", \"Geography\"] = 2\n",
        "df.loc[df[\"Geography\"]==\"Germany\", \"Geography\"] = 3"
      ],
      "metadata": {
        "id": "LI0kbm8pmhwA"
      },
      "execution_count": null,
      "outputs": []
    },
    {
      "cell_type": "code",
      "source": [
        "df.loc[df[\"Gender\"]==\"Male\", \"Gender\"] = 0\n",
        "df.loc[df[\"Gender\"]==\"Female\", \"Gender\"] = 1"
      ],
      "metadata": {
        "id": "74ZPJfygmxq1"
      },
      "execution_count": null,
      "outputs": []
    },
    {
      "cell_type": "code",
      "source": [
        "df[\"Exited\"].value_counts()"
      ],
      "metadata": {
        "colab": {
          "base_uri": "https://localhost:8080/"
        },
        "id": "pDjj5cJsm4bM",
        "outputId": "3d770b1b-077b-4f1b-9197-5fd9318b874f"
      },
      "execution_count": null,
      "outputs": [
        {
          "output_type": "execute_result",
          "data": {
            "text/plain": [
              "0    7963\n",
              "1    2037\n",
              "Name: Exited, dtype: int64"
            ]
          },
          "metadata": {},
          "execution_count": 19
        }
      ]
    },
    {
      "cell_type": "code",
      "source": [
        "df[\"Age\"] = df[\"Age\"] / 100.0"
      ],
      "metadata": {
        "id": "F2jmyvJMnAh0"
      },
      "execution_count": null,
      "outputs": []
    },
    {
      "cell_type": "code",
      "source": [
        "df[\"Exited\"].value_counts()"
      ],
      "metadata": {
        "colab": {
          "base_uri": "https://localhost:8080/"
        },
        "id": "cCZIakdnnH3y",
        "outputId": "7aabdb8d-85f9-4e38-e959-79f2c2d2c99d"
      },
      "execution_count": null,
      "outputs": [
        {
          "output_type": "execute_result",
          "data": {
            "text/plain": [
              "0    7963\n",
              "1    2037\n",
              "Name: Exited, dtype: int64"
            ]
          },
          "metadata": {},
          "execution_count": 21
        }
      ]
    },
    {
      "cell_type": "code",
      "source": [
        "print(\"In the data there is just\", round(len(df[df[\"Exited\"]==1])/len(df[\"Exited\"])*100, 2),\"% of clients who churned from the company, which means the target class is inbalanaced.\")"
      ],
      "metadata": {
        "colab": {
          "base_uri": "https://localhost:8080/"
        },
        "id": "b0zuue8ZnK2r",
        "outputId": "769c5e16-4d84-43d9-b14a-6507c9e97e29"
      },
      "execution_count": null,
      "outputs": [
        {
          "output_type": "stream",
          "name": "stdout",
          "text": [
            "In the data there is just 20.37 % of clients who churned from the company, which means the target class is inbalanaced.\n"
          ]
        }
      ]
    },
    {
      "cell_type": "code",
      "source": [
        "#Creating Train and Test sets\n"
      ],
      "metadata": {
        "id": "7fDf73yZnSws"
      },
      "execution_count": null,
      "outputs": []
    },
    {
      "cell_type": "code",
      "source": [
        "X = df.drop(columns=[\"Exited\"])\n",
        "y = df[\"Exited\"]"
      ],
      "metadata": {
        "id": "GWXGdIn7nmDt"
      },
      "execution_count": null,
      "outputs": []
    },
    {
      "cell_type": "code",
      "source": [
        "from sklearn.model_selection import train_test_split\n",
        "X_train, X_test, y_train, y_test = train_test_split(X, y, test_size=0.25, random_state=42, stratify=y)\n"
      ],
      "metadata": {
        "id": "lPGyO9brnrLd"
      },
      "execution_count": null,
      "outputs": []
    },
    {
      "cell_type": "code",
      "source": [
        "#Features Scaling\n"
      ],
      "metadata": {
        "id": "c8R9YuWinydV"
      },
      "execution_count": null,
      "outputs": []
    },
    {
      "cell_type": "code",
      "source": [
        "from sklearn.preprocessing import StandardScaler"
      ],
      "metadata": {
        "id": "SDpvG9OCoNHN"
      },
      "execution_count": null,
      "outputs": []
    },
    {
      "cell_type": "code",
      "source": [
        "scaler = StandardScaler()"
      ],
      "metadata": {
        "id": "EReudiNIoUo7"
      },
      "execution_count": null,
      "outputs": []
    },
    {
      "cell_type": "code",
      "source": [
        "columns_to_scale = [\"CreditScore\", \"Tenure\", \"Balance\", \"NumOfProducts\", \"EstimatedSalary\", \"Geography\"]"
      ],
      "metadata": {
        "id": "8qlBuSJ0ocRC"
      },
      "execution_count": null,
      "outputs": []
    },
    {
      "cell_type": "code",
      "source": [
        "X_train[columns_to_scale] = scaler.fit_transform(X_train[columns_to_scale])\n",
        "X_test[columns_to_scale] = scaler.fit_transform(X_test[columns_to_scale])"
      ],
      "metadata": {
        "id": "ce4VhPAEoiJR"
      },
      "execution_count": null,
      "outputs": []
    },
    {
      "cell_type": "code",
      "source": [
        "#Neural Networks part\n"
      ],
      "metadata": {
        "id": "fiVJ2MhdontL"
      },
      "execution_count": null,
      "outputs": []
    },
    {
      "cell_type": "code",
      "source": [
        "#Features Scaling - Part for Neural Networks\n"
      ],
      "metadata": {
        "id": "ymBsV-rboqgu"
      },
      "execution_count": null,
      "outputs": []
    },
    {
      "cell_type": "code",
      "source": [
        "X_train_neural = np.asarray(X_train).astype(np.float32)\n",
        "X_test_neural = np.asarray(X_test).astype(np.float32)"
      ],
      "metadata": {
        "id": "6ztIfJYOozz1"
      },
      "execution_count": null,
      "outputs": []
    },
    {
      "cell_type": "code",
      "source": [
        "y_train_neural = np.array(y_train).reshape((-1,1))\n",
        "y_test_neural = np.array(y_test).reshape((-1,1))"
      ],
      "metadata": {
        "id": "AQ59QLuYo5DC"
      },
      "execution_count": null,
      "outputs": []
    },
    {
      "cell_type": "code",
      "source": [
        "X_train_neural.shape, X_test_neural.shape, y_train_neural.shape, y_test_neural.shape"
      ],
      "metadata": {
        "colab": {
          "base_uri": "https://localhost:8080/"
        },
        "id": "OxeEb3fCo9z0",
        "outputId": "7acd29b0-32c3-430f-c4f0-00d6cb79aa0f"
      },
      "execution_count": null,
      "outputs": [
        {
          "output_type": "execute_result",
          "data": {
            "text/plain": [
              "((7500, 10), (2500, 10), (7500, 1), (2500, 1))"
            ]
          },
          "metadata": {},
          "execution_count": 37
        }
      ]
    },
    {
      "cell_type": "code",
      "source": [
        "#Model Building\n"
      ],
      "metadata": {
        "id": "xxUzCMm7pBo-"
      },
      "execution_count": null,
      "outputs": []
    },
    {
      "cell_type": "code",
      "source": [
        "!pip install tensorflow\n",
        "import tensorflow as tf"
      ],
      "metadata": {
        "colab": {
          "base_uri": "https://localhost:8080/"
        },
        "id": "qdsH5BWLpJkP",
        "outputId": "f4b904e7-3c7a-4f7c-8e03-e2a26ea254b4"
      },
      "execution_count": null,
      "outputs": [
        {
          "output_type": "stream",
          "name": "stdout",
          "text": [
            "Looking in indexes: https://pypi.org/simple, https://us-python.pkg.dev/colab-wheels/public/simple/\n",
            "Requirement already satisfied: tensorflow in /usr/local/lib/python3.7/dist-packages (2.9.2)\n",
            "Requirement already satisfied: packaging in /usr/local/lib/python3.7/dist-packages (from tensorflow) (21.3)\n",
            "Requirement already satisfied: gast<=0.4.0,>=0.2.1 in /usr/local/lib/python3.7/dist-packages (from tensorflow) (0.4.0)\n",
            "Requirement already satisfied: protobuf<3.20,>=3.9.2 in /usr/local/lib/python3.7/dist-packages (from tensorflow) (3.17.3)\n",
            "Requirement already satisfied: six>=1.12.0 in /usr/local/lib/python3.7/dist-packages (from tensorflow) (1.15.0)\n",
            "Requirement already satisfied: keras-preprocessing>=1.1.1 in /usr/local/lib/python3.7/dist-packages (from tensorflow) (1.1.2)\n",
            "Requirement already satisfied: h5py>=2.9.0 in /usr/local/lib/python3.7/dist-packages (from tensorflow) (3.1.0)\n",
            "Requirement already satisfied: typing-extensions>=3.6.6 in /usr/local/lib/python3.7/dist-packages (from tensorflow) (4.1.1)\n",
            "Requirement already satisfied: google-pasta>=0.1.1 in /usr/local/lib/python3.7/dist-packages (from tensorflow) (0.2.0)\n",
            "Requirement already satisfied: wrapt>=1.11.0 in /usr/local/lib/python3.7/dist-packages (from tensorflow) (1.14.1)\n",
            "Requirement already satisfied: flatbuffers<2,>=1.12 in /usr/local/lib/python3.7/dist-packages (from tensorflow) (1.12)\n",
            "Requirement already satisfied: tensorboard<2.10,>=2.9 in /usr/local/lib/python3.7/dist-packages (from tensorflow) (2.9.1)\n",
            "Requirement already satisfied: astunparse>=1.6.0 in /usr/local/lib/python3.7/dist-packages (from tensorflow) (1.6.3)\n",
            "Requirement already satisfied: tensorflow-estimator<2.10.0,>=2.9.0rc0 in /usr/local/lib/python3.7/dist-packages (from tensorflow) (2.9.0)\n",
            "Requirement already satisfied: absl-py>=1.0.0 in /usr/local/lib/python3.7/dist-packages (from tensorflow) (1.3.0)\n",
            "Requirement already satisfied: tensorflow-io-gcs-filesystem>=0.23.1 in /usr/local/lib/python3.7/dist-packages (from tensorflow) (0.27.0)\n",
            "Requirement already satisfied: setuptools in /usr/local/lib/python3.7/dist-packages (from tensorflow) (57.4.0)\n",
            "Requirement already satisfied: termcolor>=1.1.0 in /usr/local/lib/python3.7/dist-packages (from tensorflow) (2.1.0)\n",
            "Requirement already satisfied: grpcio<2.0,>=1.24.3 in /usr/local/lib/python3.7/dist-packages (from tensorflow) (1.50.0)\n",
            "Requirement already satisfied: opt-einsum>=2.3.2 in /usr/local/lib/python3.7/dist-packages (from tensorflow) (3.3.0)\n",
            "Requirement already satisfied: libclang>=13.0.0 in /usr/local/lib/python3.7/dist-packages (from tensorflow) (14.0.6)\n",
            "Requirement already satisfied: numpy>=1.20 in /usr/local/lib/python3.7/dist-packages (from tensorflow) (1.21.6)\n",
            "Requirement already satisfied: keras<2.10.0,>=2.9.0rc0 in /usr/local/lib/python3.7/dist-packages (from tensorflow) (2.9.0)\n",
            "Requirement already satisfied: wheel<1.0,>=0.23.0 in /usr/local/lib/python3.7/dist-packages (from astunparse>=1.6.0->tensorflow) (0.38.1)\n",
            "Requirement already satisfied: cached-property in /usr/local/lib/python3.7/dist-packages (from h5py>=2.9.0->tensorflow) (1.5.2)\n",
            "Requirement already satisfied: tensorboard-plugin-wit>=1.6.0 in /usr/local/lib/python3.7/dist-packages (from tensorboard<2.10,>=2.9->tensorflow) (1.8.1)\n",
            "Requirement already satisfied: requests<3,>=2.21.0 in /usr/local/lib/python3.7/dist-packages (from tensorboard<2.10,>=2.9->tensorflow) (2.23.0)\n",
            "Requirement already satisfied: tensorboard-data-server<0.7.0,>=0.6.0 in /usr/local/lib/python3.7/dist-packages (from tensorboard<2.10,>=2.9->tensorflow) (0.6.1)\n",
            "Requirement already satisfied: google-auth-oauthlib<0.5,>=0.4.1 in /usr/local/lib/python3.7/dist-packages (from tensorboard<2.10,>=2.9->tensorflow) (0.4.6)\n",
            "Requirement already satisfied: werkzeug>=1.0.1 in /usr/local/lib/python3.7/dist-packages (from tensorboard<2.10,>=2.9->tensorflow) (1.0.1)\n",
            "Requirement already satisfied: markdown>=2.6.8 in /usr/local/lib/python3.7/dist-packages (from tensorboard<2.10,>=2.9->tensorflow) (3.4.1)\n",
            "Requirement already satisfied: google-auth<3,>=1.6.3 in /usr/local/lib/python3.7/dist-packages (from tensorboard<2.10,>=2.9->tensorflow) (1.35.0)\n",
            "Requirement already satisfied: rsa<5,>=3.1.4 in /usr/local/lib/python3.7/dist-packages (from google-auth<3,>=1.6.3->tensorboard<2.10,>=2.9->tensorflow) (4.9)\n",
            "Requirement already satisfied: pyasn1-modules>=0.2.1 in /usr/local/lib/python3.7/dist-packages (from google-auth<3,>=1.6.3->tensorboard<2.10,>=2.9->tensorflow) (0.2.8)\n",
            "Requirement already satisfied: cachetools<5.0,>=2.0.0 in /usr/local/lib/python3.7/dist-packages (from google-auth<3,>=1.6.3->tensorboard<2.10,>=2.9->tensorflow) (4.2.4)\n",
            "Requirement already satisfied: requests-oauthlib>=0.7.0 in /usr/local/lib/python3.7/dist-packages (from google-auth-oauthlib<0.5,>=0.4.1->tensorboard<2.10,>=2.9->tensorflow) (1.3.1)\n",
            "Requirement already satisfied: importlib-metadata>=4.4 in /usr/local/lib/python3.7/dist-packages (from markdown>=2.6.8->tensorboard<2.10,>=2.9->tensorflow) (4.13.0)\n",
            "Requirement already satisfied: zipp>=0.5 in /usr/local/lib/python3.7/dist-packages (from importlib-metadata>=4.4->markdown>=2.6.8->tensorboard<2.10,>=2.9->tensorflow) (3.10.0)\n",
            "Requirement already satisfied: pyasn1<0.5.0,>=0.4.6 in /usr/local/lib/python3.7/dist-packages (from pyasn1-modules>=0.2.1->google-auth<3,>=1.6.3->tensorboard<2.10,>=2.9->tensorflow) (0.4.8)\n",
            "Requirement already satisfied: certifi>=2017.4.17 in /usr/local/lib/python3.7/dist-packages (from requests<3,>=2.21.0->tensorboard<2.10,>=2.9->tensorflow) (2022.9.24)\n",
            "Requirement already satisfied: idna<3,>=2.5 in /usr/local/lib/python3.7/dist-packages (from requests<3,>=2.21.0->tensorboard<2.10,>=2.9->tensorflow) (2.10)\n",
            "Requirement already satisfied: urllib3!=1.25.0,!=1.25.1,<1.26,>=1.21.1 in /usr/local/lib/python3.7/dist-packages (from requests<3,>=2.21.0->tensorboard<2.10,>=2.9->tensorflow) (1.24.3)\n",
            "Requirement already satisfied: chardet<4,>=3.0.2 in /usr/local/lib/python3.7/dist-packages (from requests<3,>=2.21.0->tensorboard<2.10,>=2.9->tensorflow) (3.0.4)\n",
            "Requirement already satisfied: oauthlib>=3.0.0 in /usr/local/lib/python3.7/dist-packages (from requests-oauthlib>=0.7.0->google-auth-oauthlib<0.5,>=0.4.1->tensorboard<2.10,>=2.9->tensorflow) (3.2.2)\n",
            "Requirement already satisfied: pyparsing!=3.0.5,>=2.0.2 in /usr/local/lib/python3.7/dist-packages (from packaging->tensorflow) (3.0.9)\n"
          ]
        }
      ]
    },
    {
      "cell_type": "code",
      "source": [
        "import tensorflow as tf\n",
        "from tensorflow import keras\n",
        "from keras.models import Sequential"
      ],
      "metadata": {
        "id": "l1rB48FUpN0W"
      },
      "execution_count": null,
      "outputs": []
    },
    {
      "cell_type": "code",
      "source": [
        "from keras.layers import Dense, Dropout, BatchNormalization\n",
        "from tensorflow.keras import layers"
      ],
      "metadata": {
        "id": "sthWzGKwpZSh"
      },
      "execution_count": null,
      "outputs": []
    },
    {
      "cell_type": "code",
      "source": [
        "model = Sequential()"
      ],
      "metadata": {
        "id": "-Tkcv808pczQ"
      },
      "execution_count": null,
      "outputs": []
    },
    {
      "cell_type": "code",
      "source": [
        "model.add(Dense(10, kernel_initializer = 'normal', input_shape=(10,), activation=\"relu\"))\n",
        "\n",
        "model.add(Dropout(rate = 0.1))\n",
        "model.add(BatchNormalization())\n",
        "\n",
        "model.add(Dense(7, kernel_initializer = 'normal', activation = 'relu'))\n",
        "\n",
        "model.add(Dropout(rate = 0.1))\n",
        "model.add(BatchNormalization())\n",
        "\n",
        "model.add(Dense(1, activation='sigmoid'))"
      ],
      "metadata": {
        "id": "nwm35ir_pgFa"
      },
      "execution_count": null,
      "outputs": []
    },
    {
      "cell_type": "code",
      "source": [
        "model.compile(optimizer=\"adam\", loss='binary_crossentropy',metrics=['accuracy'])"
      ],
      "metadata": {
        "id": "ONotzGBMpj9M"
      },
      "execution_count": null,
      "outputs": []
    },
    {
      "cell_type": "code",
      "source": [
        "#Creating weights for fitting\n"
      ],
      "metadata": {
        "id": "nLMWcCYJpxMK"
      },
      "execution_count": null,
      "outputs": []
    },
    {
      "cell_type": "code",
      "source": [
        "positivie_number = len(y_train_neural[y_train_neural==1])\n",
        "negative_number = len(y_train_neural[y_train_neural==0])\n",
        "total = len(y_train_neural)"
      ],
      "metadata": {
        "id": "Bk6IePOLp5sC"
      },
      "execution_count": null,
      "outputs": []
    },
    {
      "cell_type": "code",
      "source": [
        "weight_for_0 = ((1 / negative_number) * (total / 2.0))\n",
        "weight_for_1 = (((1 / positivie_number) * (total / 2.0))) * 2"
      ],
      "metadata": {
        "id": "YVLLO9Xop-tI"
      },
      "execution_count": null,
      "outputs": []
    },
    {
      "cell_type": "code",
      "source": [
        "weight_for_0, weight_for_1"
      ],
      "metadata": {
        "colab": {
          "base_uri": "https://localhost:8080/"
        },
        "id": "9KDm2ksbqC3T",
        "outputId": "f1882a7b-606e-4b6f-d5b3-8513f65360ad"
      },
      "execution_count": null,
      "outputs": [
        {
          "output_type": "execute_result",
          "data": {
            "text/plain": [
              "(0.6279303415941058, 4.908376963350785)"
            ]
          },
          "metadata": {},
          "execution_count": 50
        }
      ]
    },
    {
      "cell_type": "code",
      "source": [
        "class_weight = {1: weight_for_1,\n",
        "                0: weight_for_0}"
      ],
      "metadata": {
        "id": "N24cT_siqFkR"
      },
      "execution_count": null,
      "outputs": []
    },
    {
      "cell_type": "code",
      "source": [
        "history = model.fit(X_train_neural, y_train_neural, epochs=50, validation_split = 0.2)"
      ],
      "metadata": {
        "colab": {
          "base_uri": "https://localhost:8080/"
        },
        "id": "nO4snSyBqJ5o",
        "outputId": "c8d3ef70-aa0a-4fe7-e2c4-7663bdc15708"
      },
      "execution_count": null,
      "outputs": [
        {
          "output_type": "stream",
          "name": "stdout",
          "text": [
            "Epoch 1/50\n",
            "188/188 [==============================] - 2s 3ms/step - loss: 0.5902 - accuracy: 0.7257 - val_loss: 0.5336 - val_accuracy: 0.8080\n",
            "Epoch 2/50\n",
            "188/188 [==============================] - 0s 2ms/step - loss: 0.4638 - accuracy: 0.8010 - val_loss: 0.4825 - val_accuracy: 0.8080\n",
            "Epoch 3/50\n",
            "188/188 [==============================] - 0s 2ms/step - loss: 0.4340 - accuracy: 0.8130 - val_loss: 0.4486 - val_accuracy: 0.8120\n",
            "Epoch 4/50\n",
            "188/188 [==============================] - 0s 2ms/step - loss: 0.4251 - accuracy: 0.8137 - val_loss: 0.3879 - val_accuracy: 0.8320\n",
            "Epoch 5/50\n",
            "188/188 [==============================] - 0s 2ms/step - loss: 0.4150 - accuracy: 0.8190 - val_loss: 0.3795 - val_accuracy: 0.8320\n",
            "Epoch 6/50\n",
            "188/188 [==============================] - 0s 2ms/step - loss: 0.4055 - accuracy: 0.8230 - val_loss: 0.3852 - val_accuracy: 0.8353\n",
            "Epoch 7/50\n",
            "188/188 [==============================] - 0s 2ms/step - loss: 0.4033 - accuracy: 0.8185 - val_loss: 0.3756 - val_accuracy: 0.8327\n",
            "Epoch 8/50\n",
            "188/188 [==============================] - 0s 2ms/step - loss: 0.3952 - accuracy: 0.8217 - val_loss: 0.3707 - val_accuracy: 0.8360\n",
            "Epoch 9/50\n",
            "188/188 [==============================] - 0s 2ms/step - loss: 0.3931 - accuracy: 0.8168 - val_loss: 0.3644 - val_accuracy: 0.8540\n",
            "Epoch 10/50\n",
            "188/188 [==============================] - 0s 2ms/step - loss: 0.3884 - accuracy: 0.8233 - val_loss: 0.3724 - val_accuracy: 0.8327\n",
            "Epoch 11/50\n",
            "188/188 [==============================] - 0s 2ms/step - loss: 0.3933 - accuracy: 0.8247 - val_loss: 0.3622 - val_accuracy: 0.8533\n",
            "Epoch 12/50\n",
            "188/188 [==============================] - 0s 2ms/step - loss: 0.3917 - accuracy: 0.8240 - val_loss: 0.3642 - val_accuracy: 0.8507\n",
            "Epoch 13/50\n",
            "188/188 [==============================] - 0s 2ms/step - loss: 0.3843 - accuracy: 0.8268 - val_loss: 0.3725 - val_accuracy: 0.8380\n",
            "Epoch 14/50\n",
            "188/188 [==============================] - 0s 2ms/step - loss: 0.3869 - accuracy: 0.8230 - val_loss: 0.3656 - val_accuracy: 0.8327\n",
            "Epoch 15/50\n",
            "188/188 [==============================] - 0s 2ms/step - loss: 0.3885 - accuracy: 0.8227 - val_loss: 0.3631 - val_accuracy: 0.8520\n",
            "Epoch 16/50\n",
            "188/188 [==============================] - 1s 4ms/step - loss: 0.3877 - accuracy: 0.8217 - val_loss: 0.3654 - val_accuracy: 0.8547\n",
            "Epoch 17/50\n",
            "188/188 [==============================] - 0s 2ms/step - loss: 0.3878 - accuracy: 0.8233 - val_loss: 0.3688 - val_accuracy: 0.8533\n",
            "Epoch 18/50\n",
            "188/188 [==============================] - 0s 2ms/step - loss: 0.3816 - accuracy: 0.8275 - val_loss: 0.3607 - val_accuracy: 0.8460\n",
            "Epoch 19/50\n",
            "188/188 [==============================] - 0s 2ms/step - loss: 0.3822 - accuracy: 0.8330 - val_loss: 0.3679 - val_accuracy: 0.8560\n",
            "Epoch 20/50\n",
            "188/188 [==============================] - 0s 2ms/step - loss: 0.3818 - accuracy: 0.8345 - val_loss: 0.3619 - val_accuracy: 0.8573\n",
            "Epoch 21/50\n",
            "188/188 [==============================] - 0s 2ms/step - loss: 0.3837 - accuracy: 0.8290 - val_loss: 0.3623 - val_accuracy: 0.8627\n",
            "Epoch 22/50\n",
            "188/188 [==============================] - 0s 2ms/step - loss: 0.3825 - accuracy: 0.8317 - val_loss: 0.3696 - val_accuracy: 0.8453\n",
            "Epoch 23/50\n",
            "188/188 [==============================] - 0s 2ms/step - loss: 0.3798 - accuracy: 0.8335 - val_loss: 0.3556 - val_accuracy: 0.8613\n",
            "Epoch 24/50\n",
            "188/188 [==============================] - 0s 2ms/step - loss: 0.3777 - accuracy: 0.8352 - val_loss: 0.3602 - val_accuracy: 0.8533\n",
            "Epoch 25/50\n",
            "188/188 [==============================] - 0s 2ms/step - loss: 0.3756 - accuracy: 0.8342 - val_loss: 0.3517 - val_accuracy: 0.8627\n",
            "Epoch 26/50\n",
            "188/188 [==============================] - 0s 2ms/step - loss: 0.3776 - accuracy: 0.8345 - val_loss: 0.3539 - val_accuracy: 0.8540\n",
            "Epoch 27/50\n",
            "188/188 [==============================] - 0s 2ms/step - loss: 0.3744 - accuracy: 0.8368 - val_loss: 0.3551 - val_accuracy: 0.8513\n",
            "Epoch 28/50\n",
            "188/188 [==============================] - 0s 2ms/step - loss: 0.3755 - accuracy: 0.8355 - val_loss: 0.3579 - val_accuracy: 0.8587\n",
            "Epoch 29/50\n",
            "188/188 [==============================] - 0s 2ms/step - loss: 0.3779 - accuracy: 0.8340 - val_loss: 0.3621 - val_accuracy: 0.8507\n",
            "Epoch 30/50\n",
            "188/188 [==============================] - 0s 2ms/step - loss: 0.3751 - accuracy: 0.8327 - val_loss: 0.3593 - val_accuracy: 0.8627\n",
            "Epoch 31/50\n",
            "188/188 [==============================] - 0s 2ms/step - loss: 0.3755 - accuracy: 0.8343 - val_loss: 0.3622 - val_accuracy: 0.8513\n",
            "Epoch 32/50\n",
            "188/188 [==============================] - 0s 2ms/step - loss: 0.3687 - accuracy: 0.8398 - val_loss: 0.3528 - val_accuracy: 0.8647\n",
            "Epoch 33/50\n",
            "188/188 [==============================] - 0s 2ms/step - loss: 0.3657 - accuracy: 0.8462 - val_loss: 0.3513 - val_accuracy: 0.8640\n",
            "Epoch 34/50\n",
            "188/188 [==============================] - 0s 2ms/step - loss: 0.3721 - accuracy: 0.8390 - val_loss: 0.3475 - val_accuracy: 0.8633\n",
            "Epoch 35/50\n",
            "188/188 [==============================] - 0s 2ms/step - loss: 0.3720 - accuracy: 0.8385 - val_loss: 0.3553 - val_accuracy: 0.8533\n",
            "Epoch 36/50\n",
            "188/188 [==============================] - 0s 2ms/step - loss: 0.3664 - accuracy: 0.8435 - val_loss: 0.3477 - val_accuracy: 0.8633\n",
            "Epoch 37/50\n",
            "188/188 [==============================] - 0s 2ms/step - loss: 0.3692 - accuracy: 0.8420 - val_loss: 0.3551 - val_accuracy: 0.8573\n",
            "Epoch 38/50\n",
            "188/188 [==============================] - 0s 2ms/step - loss: 0.3692 - accuracy: 0.8407 - val_loss: 0.3447 - val_accuracy: 0.8693\n",
            "Epoch 39/50\n",
            "188/188 [==============================] - 0s 2ms/step - loss: 0.3696 - accuracy: 0.8402 - val_loss: 0.3487 - val_accuracy: 0.8627\n",
            "Epoch 40/50\n",
            "188/188 [==============================] - 0s 2ms/step - loss: 0.3678 - accuracy: 0.8380 - val_loss: 0.3580 - val_accuracy: 0.8520\n",
            "Epoch 41/50\n",
            "188/188 [==============================] - 0s 2ms/step - loss: 0.3718 - accuracy: 0.8408 - val_loss: 0.3622 - val_accuracy: 0.8527\n",
            "Epoch 42/50\n",
            "188/188 [==============================] - 0s 2ms/step - loss: 0.3681 - accuracy: 0.8417 - val_loss: 0.3460 - val_accuracy: 0.8680\n",
            "Epoch 43/50\n",
            "188/188 [==============================] - 0s 2ms/step - loss: 0.3674 - accuracy: 0.8457 - val_loss: 0.3464 - val_accuracy: 0.8627\n",
            "Epoch 44/50\n",
            "188/188 [==============================] - 0s 2ms/step - loss: 0.3614 - accuracy: 0.8470 - val_loss: 0.3427 - val_accuracy: 0.8627\n",
            "Epoch 45/50\n",
            "188/188 [==============================] - 0s 2ms/step - loss: 0.3633 - accuracy: 0.8443 - val_loss: 0.3488 - val_accuracy: 0.8653\n",
            "Epoch 46/50\n",
            "188/188 [==============================] - 0s 2ms/step - loss: 0.3623 - accuracy: 0.8473 - val_loss: 0.3478 - val_accuracy: 0.8613\n",
            "Epoch 47/50\n",
            "188/188 [==============================] - 0s 2ms/step - loss: 0.3606 - accuracy: 0.8447 - val_loss: 0.3512 - val_accuracy: 0.8633\n",
            "Epoch 48/50\n",
            "188/188 [==============================] - 0s 2ms/step - loss: 0.3695 - accuracy: 0.8413 - val_loss: 0.3610 - val_accuracy: 0.8473\n",
            "Epoch 49/50\n",
            "188/188 [==============================] - 0s 2ms/step - loss: 0.3663 - accuracy: 0.8457 - val_loss: 0.3526 - val_accuracy: 0.8653\n",
            "Epoch 50/50\n",
            "188/188 [==============================] - 0s 2ms/step - loss: 0.3658 - accuracy: 0.8400 - val_loss: 0.3442 - val_accuracy: 0.8580\n"
          ]
        }
      ]
    },
    {
      "cell_type": "code",
      "source": [
        "history.history.keys()"
      ],
      "metadata": {
        "colab": {
          "base_uri": "https://localhost:8080/"
        },
        "id": "R9y_uQB6qOMX",
        "outputId": "7470d8df-53d9-494c-8c6c-e85e9f31be59"
      },
      "execution_count": null,
      "outputs": [
        {
          "output_type": "execute_result",
          "data": {
            "text/plain": [
              "dict_keys(['loss', 'accuracy', 'val_loss', 'val_accuracy'])"
            ]
          },
          "metadata": {},
          "execution_count": 53
        }
      ]
    },
    {
      "cell_type": "code",
      "source": [
        "pd.DataFrame(history.history).plot(figsize=(8, 5))\n",
        "plt.grid(True)\n",
        "plt.gca().set_ylim(0,1)\n",
        "plt.show()"
      ],
      "metadata": {
        "colab": {
          "base_uri": "https://localhost:8080/",
          "height": 324
        },
        "id": "q57LnJyrqX8c",
        "outputId": "fb54f46c-5ce0-4ac3-f2bb-36825b4c2a5e"
      },
      "execution_count": null,
      "outputs": [
        {
          "output_type": "display_data",
          "data": {
            "text/plain": [
              "<Figure size 576x360 with 1 Axes>"
            ],
            "image/png": "[encoded data removed]"
          },
          "metadata": {
            "needs_background": "light"
          }
        }
      ]
    },
    {
      "cell_type": "code",
      "source": [
        "history_dict = history.history\n",
        "loss_values = history_dict[\"loss\"]\n",
        "val_loss_values = history_dict[\"val_loss\"]\n",
        "\n",
        "epochs = range(1, len(loss_values)+1)\n",
        "\n",
        "plt.plot(epochs, loss_values, \"bo\", label=\"Training Loss\")\n",
        "plt.plot(epochs, val_loss_values, \"b\", label=\"Validation Loss\")\n",
        "plt.title(\"Training and Validation Loss\")\n",
        "plt.xlabel(\"Epochs\")\n",
        "plt.ylabel(\"Loss\")\n",
        "plt.legend()\n",
        "\n",
        "plt.show()"
      ],
      "metadata": {
        "colab": {
          "base_uri": "https://localhost:8080/",
          "height": 295
        },
        "id": "IrVM7hh_qdyw",
        "outputId": "3a88f6e4-af08-44a4-9672-5a0dcb3fca3a"
      },
      "execution_count": null,
      "outputs": [
        {
          "output_type": "display_data",
          "data": {
            "text/plain": [
              "<Figure size 432x288 with 1 Axes>"
            ],
            "image/png": "[encoded data removed]"
          },
          "metadata": {
            "needs_background": "light"
          }
        }
      ]
    },
    {
      "cell_type": "code",
      "source": [
        "acc = history_dict[\"accuracy\"]\n",
        "val_acc = history_dict[\"val_accuracy\"]\n",
        "\n",
        "epochs = range(1, len(loss_values)+1)\n",
        "\n",
        "plt.plot(epochs, acc, \"bo\", label=\"Training Acc\")\n",
        "plt.plot(epochs, val_acc, \"b\", label=\"Validation Acc\")\n",
        "plt.title(\"Training and Validation Accuracy\")\n",
        "plt.xlabel(\"Epochs\")\n",
        "plt.ylabel(\"Accuracy\")\n",
        "plt.legend()\n",
        "\n",
        "plt.show()"
      ],
      "metadata": {
        "colab": {
          "base_uri": "https://localhost:8080/",
          "height": 295
        },
        "id": "LQy7bX91qpdK",
        "outputId": "eaa56a31-7225-4253-c5f7-59a5355a5611"
      },
      "execution_count": null,
      "outputs": [
        {
          "output_type": "display_data",
          "data": {
            "text/plain": [
              "<Figure size 432x288 with 1 Axes>"
            ],
            "image/png": "[encoded data removed]"
          },
          "metadata": {
            "needs_background": "light"
          }
        }
      ]
    },
    {
      "cell_type": "code",
      "source": [
        "model.evaluate(X_test_neural, y_test_neural)\n"
      ],
      "metadata": {
        "colab": {
          "base_uri": "https://localhost:8080/"
        },
        "id": "rXrPipbXquvo",
        "outputId": "798fbf40-ed51-46ad-9318-c76d66563a26"
      },
      "execution_count": null,
      "outputs": [
        {
          "output_type": "stream",
          "name": "stdout",
          "text": [
            "79/79 [==============================] - 0s 952us/step - loss: 0.3415 - accuracy: 0.8604\n"
          ]
        },
        {
          "output_type": "execute_result",
          "data": {
            "text/plain": [
              "[0.3414549231529236, 0.8604000210762024]"
            ]
          },
          "metadata": {},
          "execution_count": 57
        }
      ]
    },
    {
      "cell_type": "code",
      "source": [
        "y_pred_neural = model.predict(X_test_neural)\n",
        "y_pred_neural"
      ],
      "metadata": {
        "colab": {
          "base_uri": "https://localhost:8080/"
        },
        "id": "o3jNSsi7qzuE",
        "outputId": "36de9d97-17a7-4238-e692-dfaef29ec3b8"
      },
      "execution_count": null,
      "outputs": [
        {
          "output_type": "stream",
          "name": "stdout",
          "text": [
            "79/79 [==============================] - 0s 929us/step\n"
          ]
        },
        {
          "output_type": "execute_result",
          "data": {
            "text/plain": [
              "array([[0.08081191],\n",
              "       [0.0371404 ],\n",
              "       [0.1163009 ],\n",
              "       ...,\n",
              "       [0.7227278 ],\n",
              "       [0.08936398],\n",
              "       [0.13918307]], dtype=float32)"
            ]
          },
          "metadata": {},
          "execution_count": 58
        }
      ]
    },
    {
      "cell_type": "code",
      "source": [
        "y_pred_neural[y_pred_neural>=0.5] = 1\n",
        "y_pred_neural[y_pred_neural<0.5] = 0"
      ],
      "metadata": {
        "id": "RCGg5cjjq7AX"
      },
      "execution_count": null,
      "outputs": []
    },
    {
      "cell_type": "code",
      "source": [
        "y_pred_neural"
      ],
      "metadata": {
        "colab": {
          "base_uri": "https://localhost:8080/"
        },
        "id": "vIOfdW3-q_A3",
        "outputId": "fc9c420f-db5d-426a-9496-133f0776bf06"
      },
      "execution_count": null,
      "outputs": [
        {
          "output_type": "execute_result",
          "data": {
            "text/plain": [
              "array([[0.],\n",
              "       [0.],\n",
              "       [0.],\n",
              "       ...,\n",
              "       [1.],\n",
              "       [0.],\n",
              "       [0.]], dtype=float32)"
            ]
          },
          "metadata": {},
          "execution_count": 60
        }
      ]
    },
    {
      "cell_type": "code",
      "source": [
        "from sklearn.metrics import confusion_matrix"
      ],
      "metadata": {
        "id": "HTjMWayrrBNw"
      },
      "execution_count": null,
      "outputs": []
    },
    {
      "cell_type": "code",
      "source": [
        "cm = confusion_matrix(y_test_neural, y_pred_neural)\n",
        "ax= plt.subplot()\n",
        "sns.heatmap(cm, annot=True, fmt='g', ax=ax);  \n",
        "ax.set_xlabel('Predicted labels');\n",
        "ax.set_ylabel('True labels'); \n",
        "ax.set_title('Confusion Matrix'); \n",
        "ax.xaxis.set_ticklabels(['0', '1']); \n",
        "ax.yaxis.set_ticklabels(['0', '1']);"
      ],
      "metadata": {
        "colab": {
          "base_uri": "https://localhost:8080/",
          "height": 295
        },
        "id": "5ZKgYwmtrFzZ",
        "outputId": "71516dc2-3544-498b-90c3-ea65542784b9"
      },
      "execution_count": null,
      "outputs": [
        {
          "output_type": "display_data",
          "data": {
            "text/plain": [
              "<Figure size 432x288 with 2 Axes>"
            ],
            "image/png": "[encoded data removed]"
          },
          "metadata": {
            "needs_background": "light"
          }
        }
      ]
    },
    {
      "cell_type": "code",
      "source": [
        "from sklearn.metrics import accuracy_score, precision_score , recall_score , f1_score"
      ],
      "metadata": {
        "id": "onxXD716rIxY"
      },
      "execution_count": null,
      "outputs": []
    },
    {
      "cell_type": "code",
      "source": [
        "acc = accuracy_score(y_test_neural, y_pred_neural)\n",
        "pre = precision_score(y_test_neural, y_pred_neural)\n",
        "rec = recall_score(y_test_neural, y_pred_neural)\n",
        "f1 = f1_score(y_test_neural, y_pred_neural)\n",
        "\n",
        "acc, pre, rec, f1"
      ],
      "metadata": {
        "colab": {
          "base_uri": "https://localhost:8080/"
        },
        "id": "xbQoFiOxrOGP",
        "outputId": "a0db67df-543b-4011-c28f-ba1f41b55d57"
      },
      "execution_count": null,
      "outputs": [
        {
          "output_type": "execute_result",
          "data": {
            "text/plain": [
              "(0.8604, 0.6970443349753694, 0.555992141453831, 0.6185792349726776)"
            ]
          },
          "metadata": {},
          "execution_count": 64
        }
      ]
    },
    {
      "cell_type": "markdown",
      "source": [
        "### NEURAL NETRWORK \n",
        "\n",
        " accuracy score : 86%\n",
        " precision score : 55%\n",
        "  F1 score : 61%"
      ],
      "metadata": {
        "id": "9D9vRRaU-Xb-"
      }
    },
    {
      "cell_type": "markdown",
      "source": [
        "\n",
        "\n",
        "#**Random** **Forest** part\n"
      ],
      "metadata": {
        "id": "WW2xnf8R-7TC"
      }
    },
    {
      "cell_type": "code",
      "source": [
        "from sklearn.ensemble import RandomForestClassifier\n",
        "from sklearn.model_selection import RandomizedSearchCV\n",
        "from sklearn.metrics import roc_curve, roc_auc_score"
      ],
      "metadata": {
        "id": "sYY7RstDrb4O"
      },
      "execution_count": null,
      "outputs": []
    },
    {
      "cell_type": "code",
      "source": [
        "# Number of trees in random forest\n",
        "n_estimators = [int(x) for x in np.linspace(start = 10, stop = 200, num = 10)]\n",
        "# Number of features/properties to be used in the creation of the tree\n",
        "max_features = ['auto', 'sqrt']\n",
        "# Maximum tree depth - maximum length of the longest branch of the tree\n",
        "max_depth = [int(x) for x in np.linspace(start=5, stop=60, num = 5)]\n",
        "# Minimum number of samples that can be in the terminal/leaf node\n",
        "min_samples_leaf = [1, 2, 4]\n",
        "# Will bootsrap sampling be used Yes/No\n",
        "bootstrap = [True, False]"
      ],
      "metadata": {
        "id": "OSzEkyRXrgBr"
      },
      "execution_count": null,
      "outputs": []
    },
    {
      "cell_type": "code",
      "source": [
        "# Creating a random_grid dictionary containing individual parameters\n",
        "random_grid = {'n_estimators': n_estimators,\n",
        "                'max_features': max_features,\n",
        "                'max_depth': max_depth,\n",
        "                'min_samples_leaf': min_samples_leaf,\n",
        "                'bootstrap': bootstrap}"
      ],
      "metadata": {
        "id": "h7xpcmW2rkon"
      },
      "execution_count": null,
      "outputs": []
    },
    {
      "cell_type": "code",
      "source": [
        "rfc = RandomForestClassifier(random_state=42)\n"
      ],
      "metadata": {
        "id": "uoFVI8XlrqBN"
      },
      "execution_count": null,
      "outputs": []
    },
    {
      "cell_type": "code",
      "source": [
        "# Application of the created file/grid hyperparameters using RandomForest\n",
        "rfc_tuned = RandomizedSearchCV(estimator=rfc, param_distributions=random_grid, random_state=42)"
      ],
      "metadata": {
        "id": "LYyhxsDJrte2"
      },
      "execution_count": null,
      "outputs": []
    },
    {
      "cell_type": "code",
      "source": [
        "rfc_tuned.fit(X_train, y_train)"
      ],
      "metadata": {
        "colab": {
          "base_uri": "https://localhost:8080/"
        },
        "id": "M0ENee62r0Js",
        "outputId": "c557fb43-305b-44da-a727-3e5f4ad10e71"
      },
      "execution_count": null,
      "outputs": [
        {
          "output_type": "execute_result",
          "data": {
            "text/plain": [
              "RandomizedSearchCV(estimator=RandomForestClassifier(random_state=42),\n",
              "                   param_distributions={'bootstrap': [True, False],\n",
              "                                        'max_depth': [5, 18, 32, 46, 60],\n",
              "                                        'max_features': ['auto', 'sqrt'],\n",
              "                                        'min_samples_leaf': [1, 2, 4],\n",
              "                                        'n_estimators': [10, 31, 52, 73, 94,\n",
              "                                                         115, 136, 157, 178,\n",
              "                                                         200]},\n",
              "                   random_state=42)"
            ]
          },
          "metadata": {},
          "execution_count": 71
        }
      ]
    },
    {
      "cell_type": "code",
      "source": [
        "# Sample of the best parameters\n",
        "best_params_ = rfc_tuned.best_params_\n",
        "best_params_"
      ],
      "metadata": {
        "colab": {
          "base_uri": "https://localhost:8080/"
        },
        "id": "EduTrYcTr3JZ",
        "outputId": "bd1808e5-307d-4137-cf63-7087c9ab9b14"
      },
      "execution_count": null,
      "outputs": [
        {
          "output_type": "execute_result",
          "data": {
            "text/plain": [
              "{'n_estimators': 178,\n",
              " 'min_samples_leaf': 2,\n",
              " 'max_features': 'auto',\n",
              " 'max_depth': 18,\n",
              " 'bootstrap': True}"
            ]
          },
          "metadata": {},
          "execution_count": 72
        }
      ]
    },
    {
      "cell_type": "code",
      "source": [
        "n_estimators = best_params_['n_estimators']\n",
        "min_samples_leaf = best_params_['min_samples_leaf']\n",
        "max_features = best_params_['max_features']\n",
        "max_depth = best_params_['max_depth']\n",
        "bootstrap = best_params_['bootstrap']"
      ],
      "metadata": {
        "id": "8AedC3_5sFiF"
      },
      "execution_count": null,
      "outputs": []
    },
    {
      "cell_type": "code",
      "source": [
        "rfc = RandomForestClassifier(n_estimators = n_estimators, max_depth = max_depth, min_samples_leaf = min_samples_leaf,\n",
        "                             max_features = max_features, bootstrap = bootstrap, random_state=42)"
      ],
      "metadata": {
        "id": "mSF--E4DsJ7h"
      },
      "execution_count": null,
      "outputs": []
    },
    {
      "cell_type": "code",
      "source": [
        "rfc.fit(X_train, y_train)"
      ],
      "metadata": {
        "colab": {
          "base_uri": "https://localhost:8080/"
        },
        "id": "PmTK9Xe-sNRG",
        "outputId": "a3cedd47-c288-46c0-9ff5-018e5d3851d0"
      },
      "execution_count": null,
      "outputs": [
        {
          "output_type": "execute_result",
          "data": {
            "text/plain": [
              "RandomForestClassifier(max_depth=18, min_samples_leaf=2, n_estimators=178,\n",
              "                       random_state=42)"
            ]
          },
          "metadata": {},
          "execution_count": 75
        }
      ]
    },
    {
      "cell_type": "code",
      "source": [
        "y_pred_rf = rfc.predict(X_test)"
      ],
      "metadata": {
        "id": "pwjdHQdhsPiY"
      },
      "execution_count": null,
      "outputs": []
    },
    {
      "cell_type": "code",
      "source": [
        "cm = confusion_matrix(y_test, y_pred_rf)\n",
        "ax= plt.subplot()\n",
        "sns.heatmap(cm, annot=True, fmt='g', ax=ax);  \n",
        "ax.set_xlabel('Predicted labels');\n",
        "ax.set_ylabel('True labels'); \n",
        "ax.set_title('Confusion Matrix'); \n",
        "ax.xaxis.set_ticklabels(['0', '1']); \n",
        "ax.yaxis.set_ticklabels(['0', '1']);"
      ],
      "metadata": {
        "colab": {
          "base_uri": "https://localhost:8080/",
          "height": 295
        },
        "id": "SNBavvadsUvQ",
        "outputId": "e5640e19-9376-4a0e-e08d-b3ebd4a22a2b"
      },
      "execution_count": null,
      "outputs": [
        {
          "output_type": "display_data",
          "data": {
            "text/plain": [
              "<Figure size 432x288 with 2 Axes>"
            ],
            "image/png": "[encoded data removed]"
          },
          "metadata": {
            "needs_background": "light"
          }
        }
      ]
    },
    {
      "cell_type": "code",
      "source": [
        "acc = accuracy_score(y_test, y_pred_rf)\n",
        "pre = precision_score(y_test, y_pred_rf)\n",
        "rec = recall_score(y_test, y_pred_rf)\n",
        "f1 = f1_score(y_test, y_pred_rf)\n",
        "acc, pre, rec, f1"
      ],
      "metadata": {
        "colab": {
          "base_uri": "https://localhost:8080/"
        },
        "id": "ei_ApIJGsYbU",
        "outputId": "02f21cb3-68b7-46bc-a88f-c29e1c5575f8"
      },
      "execution_count": null,
      "outputs": [
        {
          "output_type": "execute_result",
          "data": {
            "text/plain": [
              "(0.868, 0.7877813504823151, 0.481335952848723, 0.5975609756097561)"
            ]
          },
          "metadata": {},
          "execution_count": 78
        }
      ]
    },
    {
      "cell_type": "markdown",
      "source": [
        "## Random forest\n",
        "   accuracy score : 86%\n",
        "   precision score : 48%\n",
        "   F1 score : 59%\n",
        "\n",
        "\n",
        "\n",
        "\n",
        "\n",
        "\n",
        " "
      ],
      "metadata": {
        "id": "C6yiklEB80cG"
      }
    },
    {
      "cell_type": "code",
      "source": [
        "# Representation of the most important parameters from the model perspective\n",
        "features = pd.DataFrame()\n",
        "features['feature'] = df.drop(columns=['Exited']).columns\n",
        "features['importance'] = rfc.feature_importances_\n",
        "features.sort_values(by=['importance'], ascending=True, inplace=True)\n",
        "features.set_index('feature', inplace=True)\n",
        "\n",
        "features.plot(kind='barh', figsize=(10, 10))\n",
        "plt.show()"
      ],
      "metadata": {
        "colab": {
          "base_uri": "https://localhost:8080/",
          "height": 592
        },
        "id": "6VcKBuGosdBE",
        "outputId": "9fcdb6eb-c3e7-4343-e8b7-a70c0046073a"
      },
      "execution_count": null,
      "outputs": [
        {
          "output_type": "display_data",
          "data": {
            "text/plain": [
              "<Figure size 720x720 with 1 Axes>"
            ],
            "image/png": "[encoded data removed]"
          },
          "metadata": {
            "needs_background": "light"
          }
        }
      ]
    },
    {
      "cell_type": "code",
      "source": [
        "#Deeper look at how RF model predict"
      ],
      "metadata": {
        "id": "Zad_bHPmsjB7"
      },
      "execution_count": null,
      "outputs": []
    },
    {
      "cell_type": "code",
      "source": [
        "# Creating copy of index for merge with predict_proba_train\n",
        "df_copy = df_copy.reset_index()"
      ],
      "metadata": {
        "id": "QcjlDA4bsrge"
      },
      "execution_count": null,
      "outputs": []
    },
    {
      "cell_type": "code",
      "source": [
        "predict_proba_train = pd.DataFrame(rfc.predict_proba(X_train))\n",
        "predict_proba_train.head()"
      ],
      "metadata": {
        "colab": {
          "base_uri": "https://localhost:8080/",
          "height": 206
        },
        "id": "ybVrbpfssvcP",
        "outputId": "67542ddc-209c-4b3a-9b2e-e57f0aec0f11"
      },
      "execution_count": null,
      "outputs": [
        {
          "output_type": "execute_result",
          "data": {
            "text/plain": [
              "          0         1\n",
              "0  0.399483  0.600517\n",
              "1  0.874112  0.125888\n",
              "2  0.623502  0.376498\n",
              "3  0.990752  0.009248\n",
              "4  0.843253  0.156747"
            ],
            "text/html": [
              "\n",
              "  <div id=\"df-77b991e3-23ab-4536-b03f-33ac9b269012\">\n",
              "    <div class=\"colab-df-container\">\n",
              "      <div>\n",
              "<style scoped>\n",
              "    .dataframe tbody tr th:only-of-type {\n",
              "        vertical-align: middle;\n",
              "    }\n",
              "\n",
              "    .dataframe tbody tr th {\n",
              "        vertical-align: top;\n",
              "    }\n",
              "\n",
              "    .dataframe thead th {\n",
              "        text-align: right;\n",
              "    }\n",
              "</style>\n",
              "<table border=\"1\" class=\"dataframe\">\n",
              "  <thead>\n",
              "    <tr style=\"text-align: right;\">\n",
              "      <th></th>\n",
              "      <th>0</th>\n",
              "      <th>1</th>\n",
              "    </tr>\n",
              "  </thead>\n",
              "  <tbody>\n",
              "    <tr>\n",
              "      <th>0</th>\n",
              "      <td>0.399483</td>\n",
              "      <td>0.600517</td>\n",
              "    </tr>\n",
              "    <tr>\n",
              "      <th>1</th>\n",
              "      <td>0.874112</td>\n",
              "      <td>0.125888</td>\n",
              "    </tr>\n",
              "    <tr>\n",
              "      <th>2</th>\n",
              "      <td>0.623502</td>\n",
              "      <td>0.376498</td>\n",
              "    </tr>\n",
              "    <tr>\n",
              "      <th>3</th>\n",
              "      <td>0.990752</td>\n",
              "      <td>0.009248</td>\n",
              "    </tr>\n",
              "    <tr>\n",
              "      <th>4</th>\n",
              "      <td>0.843253</td>\n",
              "      <td>0.156747</td>\n",
              "    </tr>\n",
              "  </tbody>\n",
              "</table>\n",
              "</div>\n",
              "      <button class=\"colab-df-convert\" onclick=\"convertToInteractive('df-77b991e3-23ab-4536-b03f-33ac9b269012')\"\n",
              "              title=\"Convert this dataframe to an interactive table.\"\n",
              "              style=\"display:none;\">\n",
              "        \n",
              "  <svg xmlns=\"http://www.w3.org/2000/svg\" height=\"24px\"viewBox=\"0 0 24 24\"\n",
              "       width=\"24px\">\n",
              "    <path d=\"M0 0h24v24H0V0z\" fill=\"none\"/>\n",
              "    <path d=\"M18.56 5.44l.94 2.06.94-2.06 2.06-.94-2.06-.94-.94-2.06-.94 2.06-2.06.94zm-11 1L8.5 8.5l.94-2.06 2.06-.94-2.06-.94L8.5 2.5l-.94 2.06-2.06.94zm10 10l.94 2.06.94-2.06 2.06-.94-2.06-.94-.94-2.06-.94 2.06-2.06.94z\"/><path d=\"M17.41 7.96l-1.37-1.37c-.4-.4-.92-.59-1.43-.59-.52 0-1.04.2-1.43.59L10.3 9.45l-7.72 7.72c-.78.78-.78 2.05 0 2.83L4 21.41c.39.39.9.59 1.41.59.51 0 1.02-.2 1.41-.59l7.78-7.78 2.81-2.81c.8-.78.8-2.07 0-2.86zM5.41 20L4 18.59l7.72-7.72 1.47 1.35L5.41 20z\"/>\n",
              "  </svg>\n",
              "      </button>\n",
              "      \n",
              "  <style>\n",
              "    .colab-df-container {\n",
              "      display:flex;\n",
              "      flex-wrap:wrap;\n",
              "      gap: 12px;\n",
              "    }\n",
              "\n",
              "    .colab-df-convert {\n",
              "      background-color: #E8F0FE;\n",
              "      border: none;\n",
              "      border-radius: 50%;\n",
              "      cursor: pointer;\n",
              "      display: none;\n",
              "      fill: #1967D2;\n",
              "      height: 32px;\n",
              "      padding: 0 0 0 0;\n",
              "      width: 32px;\n",
              "    }\n",
              "\n",
              "    .colab-df-convert:hover {\n",
              "      background-color: #E2EBFA;\n",
              "      box-shadow: 0px 1px 2px rgba(60, 64, 67, 0.3), 0px 1px 3px 1px rgba(60, 64, 67, 0.15);\n",
              "      fill: #174EA6;\n",
              "    }\n",
              "\n",
              "    [theme=dark] .colab-df-convert {\n",
              "      background-color: #3B4455;\n",
              "      fill: #D2E3FC;\n",
              "    }\n",
              "\n",
              "    [theme=dark] .colab-df-convert:hover {\n",
              "      background-color: #434B5C;\n",
              "      box-shadow: 0px 1px 3px 1px rgba(0, 0, 0, 0.15);\n",
              "      filter: drop-shadow(0px 1px 2px rgba(0, 0, 0, 0.3));\n",
              "      fill: #FFFFFF;\n",
              "    }\n",
              "  </style>\n",
              "\n",
              "      <script>\n",
              "        const buttonEl =\n",
              "          document.querySelector('#df-77b991e3-23ab-4536-b03f-33ac9b269012 button.colab-df-convert');\n",
              "        buttonEl.style.display =\n",
              "          google.colab.kernel.accessAllowed ? 'block' : 'none';\n",
              "\n",
              "        async function convertToInteractive(key) {\n",
              "          const element = document.querySelector('#df-77b991e3-23ab-4536-b03f-33ac9b269012');\n",
              "          const dataTable =\n",
              "            await google.colab.kernel.invokeFunction('convertToInteractive',\n",
              "                                                     [key], {});\n",
              "          if (!dataTable) return;\n",
              "\n",
              "          const docLinkHtml = 'Like what you see? Visit the ' +\n",
              "            '<a target=\"_blank\" href=https://colab.research.google.com/notebooks/data_table.ipynb>data table notebook</a>'\n",
              "            + ' to learn more about interactive tables.';\n",
              "          element.innerHTML = '';\n",
              "          dataTable['output_type'] = 'display_data';\n",
              "          await google.colab.output.renderOutput(dataTable, element);\n",
              "          const docLink = document.createElement('div');\n",
              "          docLink.innerHTML = docLinkHtml;\n",
              "          element.appendChild(docLink);\n",
              "        }\n",
              "      </script>\n",
              "    </div>\n",
              "  </div>\n",
              "  "
            ]
          },
          "metadata": {},
          "execution_count": 82
        }
      ]
    },
    {
      "cell_type": "code",
      "source": [
        "# Creating copy of index for merge with df_copy\n",
        "X_train_proba = X_train.reset_index()"
      ],
      "metadata": {
        "id": "RoBzAks4sxyb"
      },
      "execution_count": null,
      "outputs": []
    },
    {
      "cell_type": "code",
      "source": [
        "X_train_proba['proba_0'] = predict_proba_train[0]\n",
        "X_train_proba['proba_1'] = predict_proba_train[1]\n",
        "X_train_proba.head()"
      ],
      "metadata": {
        "colab": {
          "base_uri": "https://localhost:8080/",
          "height": 270
        },
        "id": "hr87Lu5ls17_",
        "outputId": "23049ff9-8176-4f32-cdb7-3afb8cbe3645"
      },
      "execution_count": null,
      "outputs": [
        {
          "output_type": "execute_result",
          "data": {
            "text/plain": [
              "   index  CreditScore  Geography Gender   Age    Tenure   Balance  \\\n",
              "0   5866     0.874378  -0.906672      1  0.53  1.028955  0.761715   \n",
              "1   1938    -1.371272  -0.906672      0  0.38 -0.699103  0.234517   \n",
              "2   4194    -0.812446   1.508115      1  0.54  1.374567  0.337508   \n",
              "3   6332    -0.326061  -0.906672      1  0.35 -0.353492  0.225786   \n",
              "4      1    -0.439896   0.300721      1  0.41 -1.390327  0.119901   \n",
              "\n",
              "   NumOfProducts  HasCrCard  IsActiveMember  EstimatedSalary   proba_0  \\\n",
              "0       0.803861          0               1         1.237787  0.399483   \n",
              "1      -0.914771          0               1         1.095526  0.874112   \n",
              "2      -0.914771          1               1         1.679687  0.623502   \n",
              "3      -0.914771          1               1        -1.378660  0.990752   \n",
              "4      -0.914771          0               1         0.226947  0.843253   \n",
              "\n",
              "    proba_1  \n",
              "0  0.600517  \n",
              "1  0.125888  \n",
              "2  0.376498  \n",
              "3  0.009248  \n",
              "4  0.156747  "
            ],
            "text/html": [
              "\n",
              "  <div id=\"df-db7ff0b4-4fd5-4e5e-8c04-4b52793d089a\">\n",
              "    <div class=\"colab-df-container\">\n",
              "      <div>\n",
              "<style scoped>\n",
              "    .dataframe tbody tr th:only-of-type {\n",
              "        vertical-align: middle;\n",
              "    }\n",
              "\n",
              "    .dataframe tbody tr th {\n",
              "        vertical-align: top;\n",
              "    }\n",
              "\n",
              "    .dataframe thead th {\n",
              "        text-align: right;\n",
              "    }\n",
              "</style>\n",
              "<table border=\"1\" class=\"dataframe\">\n",
              "  <thead>\n",
              "    <tr style=\"text-align: right;\">\n",
              "      <th></th>\n",
              "      <th>index</th>\n",
              "      <th>CreditScore</th>\n",
              "      <th>Geography</th>\n",
              "      <th>Gender</th>\n",
              "      <th>Age</th>\n",
              "      <th>Tenure</th>\n",
              "      <th>Balance</th>\n",
              "      <th>NumOfProducts</th>\n",
              "      <th>HasCrCard</th>\n",
              "      <th>IsActiveMember</th>\n",
              "      <th>EstimatedSalary</th>\n",
              "      <th>proba_0</th>\n",
              "      <th>proba_1</th>\n",
              "    </tr>\n",
              "  </thead>\n",
              "  <tbody>\n",
              "    <tr>\n",
              "      <th>0</th>\n",
              "      <td>5866</td>\n",
              "      <td>0.874378</td>\n",
              "      <td>-0.906672</td>\n",
              "      <td>1</td>\n",
              "      <td>0.53</td>\n",
              "      <td>1.028955</td>\n",
              "      <td>0.761715</td>\n",
              "      <td>0.803861</td>\n",
              "      <td>0</td>\n",
              "      <td>1</td>\n",
              "      <td>1.237787</td>\n",
              "      <td>0.399483</td>\n",
              "      <td>0.600517</td>\n",
              "    </tr>\n",
              "    <tr>\n",
              "      <th>1</th>\n",
              "      <td>1938</td>\n",
              "      <td>-1.371272</td>\n",
              "      <td>-0.906672</td>\n",
              "      <td>0</td>\n",
              "      <td>0.38</td>\n",
              "      <td>-0.699103</td>\n",
              "      <td>0.234517</td>\n",
              "      <td>-0.914771</td>\n",
              "      <td>0</td>\n",
              "      <td>1</td>\n",
              "      <td>1.095526</td>\n",
              "      <td>0.874112</td>\n",
              "      <td>0.125888</td>\n",
              "    </tr>\n",
              "    <tr>\n",
              "      <th>2</th>\n",
              "      <td>4194</td>\n",
              "      <td>-0.812446</td>\n",
              "      <td>1.508115</td>\n",
              "      <td>1</td>\n",
              "      <td>0.54</td>\n",
              "      <td>1.374567</td>\n",
              "      <td>0.337508</td>\n",
              "      <td>-0.914771</td>\n",
              "      <td>1</td>\n",
              "      <td>1</td>\n",
              "      <td>1.679687</td>\n",
              "      <td>0.623502</td>\n",
              "      <td>0.376498</td>\n",
              "    </tr>\n",
              "    <tr>\n",
              "      <th>3</th>\n",
              "      <td>6332</td>\n",
              "      <td>-0.326061</td>\n",
              "      <td>-0.906672</td>\n",
              "      <td>1</td>\n",
              "      <td>0.35</td>\n",
              "      <td>-0.353492</td>\n",
              "      <td>0.225786</td>\n",
              "      <td>-0.914771</td>\n",
              "      <td>1</td>\n",
              "      <td>1</td>\n",
              "      <td>-1.378660</td>\n",
              "      <td>0.990752</td>\n",
              "      <td>0.009248</td>\n",
              "    </tr>\n",
              "    <tr>\n",
              "      <th>4</th>\n",
              "      <td>1</td>\n",
              "      <td>-0.439896</td>\n",
              "      <td>0.300721</td>\n",
              "      <td>1</td>\n",
              "      <td>0.41</td>\n",
              "      <td>-1.390327</td>\n",
              "      <td>0.119901</td>\n",
              "      <td>-0.914771</td>\n",
              "      <td>0</td>\n",
              "      <td>1</td>\n",
              "      <td>0.226947</td>\n",
              "      <td>0.843253</td>\n",
              "      <td>0.156747</td>\n",
              "    </tr>\n",
              "  </tbody>\n",
              "</table>\n",
              "</div>\n",
              "      <button class=\"colab-df-convert\" onclick=\"convertToInteractive('df-db7ff0b4-4fd5-4e5e-8c04-4b52793d089a')\"\n",
              "              title=\"Convert this dataframe to an interactive table.\"\n",
              "              style=\"display:none;\">\n",
              "        \n",
              "  <svg xmlns=\"http://www.w3.org/2000/svg\" height=\"24px\"viewBox=\"0 0 24 24\"\n",
              "       width=\"24px\">\n",
              "    <path d=\"M0 0h24v24H0V0z\" fill=\"none\"/>\n",
              "    <path d=\"M18.56 5.44l.94 2.06.94-2.06 2.06-.94-2.06-.94-.94-2.06-.94 2.06-2.06.94zm-11 1L8.5 8.5l.94-2.06 2.06-.94-2.06-.94L8.5 2.5l-.94 2.06-2.06.94zm10 10l.94 2.06.94-2.06 2.06-.94-2.06-.94-.94-2.06-.94 2.06-2.06.94z\"/><path d=\"M17.41 7.96l-1.37-1.37c-.4-.4-.92-.59-1.43-.59-.52 0-1.04.2-1.43.59L10.3 9.45l-7.72 7.72c-.78.78-.78 2.05 0 2.83L4 21.41c.39.39.9.59 1.41.59.51 0 1.02-.2 1.41-.59l7.78-7.78 2.81-2.81c.8-.78.8-2.07 0-2.86zM5.41 20L4 18.59l7.72-7.72 1.47 1.35L5.41 20z\"/>\n",
              "  </svg>\n",
              "      </button>\n",
              "      \n",
              "  <style>\n",
              "    .colab-df-container {\n",
              "      display:flex;\n",
              "      flex-wrap:wrap;\n",
              "      gap: 12px;\n",
              "    }\n",
              "\n",
              "    .colab-df-convert {\n",
              "      background-color: #E8F0FE;\n",
              "      border: none;\n",
              "      border-radius: 50%;\n",
              "      cursor: pointer;\n",
              "      display: none;\n",
              "      fill: #1967D2;\n",
              "      height: 32px;\n",
              "      padding: 0 0 0 0;\n",
              "      width: 32px;\n",
              "    }\n",
              "\n",
              "    .colab-df-convert:hover {\n",
              "      background-color: #E2EBFA;\n",
              "      box-shadow: 0px 1px 2px rgba(60, 64, 67, 0.3), 0px 1px 3px 1px rgba(60, 64, 67, 0.15);\n",
              "      fill: #174EA6;\n",
              "    }\n",
              "\n",
              "    [theme=dark] .colab-df-convert {\n",
              "      background-color: #3B4455;\n",
              "      fill: #D2E3FC;\n",
              "    }\n",
              "\n",
              "    [theme=dark] .colab-df-convert:hover {\n",
              "      background-color: #434B5C;\n",
              "      box-shadow: 0px 1px 3px 1px rgba(0, 0, 0, 0.15);\n",
              "      filter: drop-shadow(0px 1px 2px rgba(0, 0, 0, 0.3));\n",
              "      fill: #FFFFFF;\n",
              "    }\n",
              "  </style>\n",
              "\n",
              "      <script>\n",
              "        const buttonEl =\n",
              "          document.querySelector('#df-db7ff0b4-4fd5-4e5e-8c04-4b52793d089a button.colab-df-convert');\n",
              "        buttonEl.style.display =\n",
              "          google.colab.kernel.accessAllowed ? 'block' : 'none';\n",
              "\n",
              "        async function convertToInteractive(key) {\n",
              "          const element = document.querySelector('#df-db7ff0b4-4fd5-4e5e-8c04-4b52793d089a');\n",
              "          const dataTable =\n",
              "            await google.colab.kernel.invokeFunction('convertToInteractive',\n",
              "                                                     [key], {});\n",
              "          if (!dataTable) return;\n",
              "\n",
              "          const docLinkHtml = 'Like what you see? Visit the ' +\n",
              "            '<a target=\"_blank\" href=https://colab.research.google.com/notebooks/data_table.ipynb>data table notebook</a>'\n",
              "            + ' to learn more about interactive tables.';\n",
              "          element.innerHTML = '';\n",
              "          dataTable['output_type'] = 'display_data';\n",
              "          await google.colab.output.renderOutput(dataTable, element);\n",
              "          const docLink = document.createElement('div');\n",
              "          docLink.innerHTML = docLinkHtml;\n",
              "          element.appendChild(docLink);\n",
              "        }\n",
              "      </script>\n",
              "    </div>\n",
              "  </div>\n",
              "  "
            ]
          },
          "metadata": {},
          "execution_count": 84
        }
      ]
    },
    {
      "cell_type": "code",
      "source": [
        "\n",
        "# Merge data, from X_train_proba just ['index', 'proba_0', 'proba_1'] will be taken\n",
        "df_train_proba = pd.merge(df_copy, X_train_proba[['index', 'proba_0', 'proba_1']], how='left', left_on='index', right_on='index')\n",
        "df_train_proba = df_train_proba[df_train_proba['proba_0'].notna()]\n",
        "df_train_proba"
      ],
      "metadata": {
        "colab": {
          "base_uri": "https://localhost:8080/",
          "height": 488
        },
        "id": "UMSM3EFAs4tc",
        "outputId": "6e73e977-84f1-4214-ffb6-c94c8b5fb8bd"
      },
      "execution_count": null,
      "outputs": [
        {
          "output_type": "execute_result",
          "data": {
            "text/plain": [
              "      index  RowNumber  CustomerId    Surname  CreditScore Geography  Gender  \\\n",
              "0         0          1    15634602   Hargrave          619    France  Female   \n",
              "1         1          2    15647311       Hill          608     Spain  Female   \n",
              "2         2          3    15619304       Onio          502    France  Female   \n",
              "3         3          4    15701354       Boni          699    France  Female   \n",
              "5         5          6    15574012        Chu          645     Spain    Male   \n",
              "...     ...        ...         ...        ...          ...       ...     ...   \n",
              "9994   9994       9995    15719294       Wood          800    France  Female   \n",
              "9995   9995       9996    15606229   Obijiaku          771    France    Male   \n",
              "9996   9996       9997    15569892  Johnstone          516    France    Male   \n",
              "9997   9997       9998    15584532        Liu          709    France  Female   \n",
              "9999   9999      10000    15628319     Walker          792    France  Female   \n",
              "\n",
              "      Age  Tenure    Balance  NumOfProducts  HasCrCard  IsActiveMember  \\\n",
              "0      42       2       0.00              1          1               1   \n",
              "1      41       1   83807.86              1          0               1   \n",
              "2      42       8  159660.80              3          1               0   \n",
              "3      39       1       0.00              2          0               0   \n",
              "5      44       8  113755.78              2          1               0   \n",
              "...   ...     ...        ...            ...        ...             ...   \n",
              "9994   29       2       0.00              2          0               0   \n",
              "9995   39       5       0.00              2          1               0   \n",
              "9996   35      10   57369.61              1          1               1   \n",
              "9997   36       7       0.00              1          0               1   \n",
              "9999   28       4  130142.79              1          1               0   \n",
              "\n",
              "      EstimatedSalary  Exited   proba_0   proba_1  \n",
              "0           101348.88       1  0.410790  0.589210  \n",
              "1           112542.58       0  0.843253  0.156747  \n",
              "2           113931.57       1  0.029448  0.970552  \n",
              "3            93826.63       0  0.941720  0.058280  \n",
              "5           149756.71       1  0.491573  0.508427  \n",
              "...               ...     ...       ...       ...  \n",
              "9994        167773.55       0  0.982322  0.017678  \n",
              "9995         96270.64       0  0.995535  0.004465  \n",
              "9996        101699.77       0  0.911371  0.088629  \n",
              "9997         42085.58       1  0.604288  0.395712  \n",
              "9999         38190.78       0  0.968458  0.031542  \n",
              "\n",
              "[7500 rows x 17 columns]"
            ],
            "text/html": [
              "\n",
              "  <div id=\"df-542935e7-3bd8-4f72-a57f-5f28642d03ce\">\n",
              "    <div class=\"colab-df-container\">\n",
              "      <div>\n",
              "<style scoped>\n",
              "    .dataframe tbody tr th:only-of-type {\n",
              "        vertical-align: middle;\n",
              "    }\n",
              "\n",
              "    .dataframe tbody tr th {\n",
              "        vertical-align: top;\n",
              "    }\n",
              "\n",
              "    .dataframe thead th {\n",
              "        text-align: right;\n",
              "    }\n",
              "</style>\n",
              "<table border=\"1\" class=\"dataframe\">\n",
              "  <thead>\n",
              "    <tr style=\"text-align: right;\">\n",
              "      <th></th>\n",
              "      <th>index</th>\n",
              "      <th>RowNumber</th>\n",
              "      <th>CustomerId</th>\n",
              "      <th>Surname</th>\n",
              "      <th>CreditScore</th>\n",
              "      <th>Geography</th>\n",
              "      <th>Gender</th>\n",
              "      <th>Age</th>\n",
              "      <th>Tenure</th>\n",
              "      <th>Balance</th>\n",
              "      <th>NumOfProducts</th>\n",
              "      <th>HasCrCard</th>\n",
              "      <th>IsActiveMember</th>\n",
              "      <th>EstimatedSalary</th>\n",
              "      <th>Exited</th>\n",
              "      <th>proba_0</th>\n",
              "      <th>proba_1</th>\n",
              "    </tr>\n",
              "  </thead>\n",
              "  <tbody>\n",
              "    <tr>\n",
              "      <th>0</th>\n",
              "      <td>0</td>\n",
              "      <td>1</td>\n",
              "      <td>15634602</td>\n",
              "      <td>Hargrave</td>\n",
              "      <td>619</td>\n",
              "      <td>France</td>\n",
              "      <td>Female</td>\n",
              "      <td>42</td>\n",
              "      <td>2</td>\n",
              "      <td>0.00</td>\n",
              "      <td>1</td>\n",
              "      <td>1</td>\n",
              "      <td>1</td>\n",
              "      <td>101348.88</td>\n",
              "      <td>1</td>\n",
              "      <td>0.410790</td>\n",
              "      <td>0.589210</td>\n",
              "    </tr>\n",
              "    <tr>\n",
              "      <th>1</th>\n",
              "      <td>1</td>\n",
              "      <td>2</td>\n",
              "      <td>15647311</td>\n",
              "      <td>Hill</td>\n",
              "      <td>608</td>\n",
              "      <td>Spain</td>\n",
              "      <td>Female</td>\n",
              "      <td>41</td>\n",
              "      <td>1</td>\n",
              "      <td>83807.86</td>\n",
              "      <td>1</td>\n",
              "      <td>0</td>\n",
              "      <td>1</td>\n",
              "      <td>112542.58</td>\n",
              "      <td>0</td>\n",
              "      <td>0.843253</td>\n",
              "      <td>0.156747</td>\n",
              "    </tr>\n",
              "    <tr>\n",
              "      <th>2</th>\n",
              "      <td>2</td>\n",
              "      <td>3</td>\n",
              "      <td>15619304</td>\n",
              "      <td>Onio</td>\n",
              "      <td>502</td>\n",
              "      <td>France</td>\n",
              "      <td>Female</td>\n",
              "      <td>42</td>\n",
              "      <td>8</td>\n",
              "      <td>159660.80</td>\n",
              "      <td>3</td>\n",
              "      <td>1</td>\n",
              "      <td>0</td>\n",
              "      <td>113931.57</td>\n",
              "      <td>1</td>\n",
              "      <td>0.029448</td>\n",
              "      <td>0.970552</td>\n",
              "    </tr>\n",
              "    <tr>\n",
              "      <th>3</th>\n",
              "      <td>3</td>\n",
              "      <td>4</td>\n",
              "      <td>15701354</td>\n",
              "      <td>Boni</td>\n",
              "      <td>699</td>\n",
              "      <td>France</td>\n",
              "      <td>Female</td>\n",
              "      <td>39</td>\n",
              "      <td>1</td>\n",
              "      <td>0.00</td>\n",
              "      <td>2</td>\n",
              "      <td>0</td>\n",
              "      <td>0</td>\n",
              "      <td>93826.63</td>\n",
              "      <td>0</td>\n",
              "      <td>0.941720</td>\n",
              "      <td>0.058280</td>\n",
              "    </tr>\n",
              "    <tr>\n",
              "      <th>5</th>\n",
              "      <td>5</td>\n",
              "      <td>6</td>\n",
              "      <td>15574012</td>\n",
              "      <td>Chu</td>\n",
              "      <td>645</td>\n",
              "      <td>Spain</td>\n",
              "      <td>Male</td>\n",
              "      <td>44</td>\n",
              "      <td>8</td>\n",
              "      <td>113755.78</td>\n",
              "      <td>2</td>\n",
              "      <td>1</td>\n",
              "      <td>0</td>\n",
              "      <td>149756.71</td>\n",
              "      <td>1</td>\n",
              "      <td>0.491573</td>\n",
              "      <td>0.508427</td>\n",
              "    </tr>\n",
              "    <tr>\n",
              "      <th>...</th>\n",
              "      <td>...</td>\n",
              "      <td>...</td>\n",
              "      <td>...</td>\n",
              "      <td>...</td>\n",
              "      <td>...</td>\n",
              "      <td>...</td>\n",
              "      <td>...</td>\n",
              "      <td>...</td>\n",
              "      <td>...</td>\n",
              "      <td>...</td>\n",
              "      <td>...</td>\n",
              "      <td>...</td>\n",
              "      <td>...</td>\n",
              "      <td>...</td>\n",
              "      <td>...</td>\n",
              "      <td>...</td>\n",
              "      <td>...</td>\n",
              "    </tr>\n",
              "    <tr>\n",
              "      <th>9994</th>\n",
              "      <td>9994</td>\n",
              "      <td>9995</td>\n",
              "      <td>15719294</td>\n",
              "      <td>Wood</td>\n",
              "      <td>800</td>\n",
              "      <td>France</td>\n",
              "      <td>Female</td>\n",
              "      <td>29</td>\n",
              "      <td>2</td>\n",
              "      <td>0.00</td>\n",
              "      <td>2</td>\n",
              "      <td>0</td>\n",
              "      <td>0</td>\n",
              "      <td>167773.55</td>\n",
              "      <td>0</td>\n",
              "      <td>0.982322</td>\n",
              "      <td>0.017678</td>\n",
              "    </tr>\n",
              "    <tr>\n",
              "      <th>9995</th>\n",
              "      <td>9995</td>\n",
              "      <td>9996</td>\n",
              "      <td>15606229</td>\n",
              "      <td>Obijiaku</td>\n",
              "      <td>771</td>\n",
              "      <td>France</td>\n",
              "      <td>Male</td>\n",
              "      <td>39</td>\n",
              "      <td>5</td>\n",
              "      <td>0.00</td>\n",
              "      <td>2</td>\n",
              "      <td>1</td>\n",
              "      <td>0</td>\n",
              "      <td>96270.64</td>\n",
              "      <td>0</td>\n",
              "      <td>0.995535</td>\n",
              "      <td>0.004465</td>\n",
              "    </tr>\n",
              "    <tr>\n",
              "      <th>9996</th>\n",
              "      <td>9996</td>\n",
              "      <td>9997</td>\n",
              "      <td>15569892</td>\n",
              "      <td>Johnstone</td>\n",
              "      <td>516</td>\n",
              "      <td>France</td>\n",
              "      <td>Male</td>\n",
              "      <td>35</td>\n",
              "      <td>10</td>\n",
              "      <td>57369.61</td>\n",
              "      <td>1</td>\n",
              "      <td>1</td>\n",
              "      <td>1</td>\n",
              "      <td>101699.77</td>\n",
              "      <td>0</td>\n",
              "      <td>0.911371</td>\n",
              "      <td>0.088629</td>\n",
              "    </tr>\n",
              "    <tr>\n",
              "      <th>9997</th>\n",
              "      <td>9997</td>\n",
              "      <td>9998</td>\n",
              "      <td>15584532</td>\n",
              "      <td>Liu</td>\n",
              "      <td>709</td>\n",
              "      <td>France</td>\n",
              "      <td>Female</td>\n",
              "      <td>36</td>\n",
              "      <td>7</td>\n",
              "      <td>0.00</td>\n",
              "      <td>1</td>\n",
              "      <td>0</td>\n",
              "      <td>1</td>\n",
              "      <td>42085.58</td>\n",
              "      <td>1</td>\n",
              "      <td>0.604288</td>\n",
              "      <td>0.395712</td>\n",
              "    </tr>\n",
              "    <tr>\n",
              "      <th>9999</th>\n",
              "      <td>9999</td>\n",
              "      <td>10000</td>\n",
              "      <td>15628319</td>\n",
              "      <td>Walker</td>\n",
              "      <td>792</td>\n",
              "      <td>France</td>\n",
              "      <td>Female</td>\n",
              "      <td>28</td>\n",
              "      <td>4</td>\n",
              "      <td>130142.79</td>\n",
              "      <td>1</td>\n",
              "      <td>1</td>\n",
              "      <td>0</td>\n",
              "      <td>38190.78</td>\n",
              "      <td>0</td>\n",
              "      <td>0.968458</td>\n",
              "      <td>0.031542</td>\n",
              "    </tr>\n",
              "  </tbody>\n",
              "</table>\n",
              "<p>7500 rows × 17 columns</p>\n",
              "</div>\n",
              "      <button class=\"colab-df-convert\" onclick=\"convertToInteractive('df-542935e7-3bd8-4f72-a57f-5f28642d03ce')\"\n",
              "              title=\"Convert this dataframe to an interactive table.\"\n",
              "              style=\"display:none;\">\n",
              "        \n",
              "  <svg xmlns=\"http://www.w3.org/2000/svg\" height=\"24px\"viewBox=\"0 0 24 24\"\n",
              "       width=\"24px\">\n",
              "    <path d=\"M0 0h24v24H0V0z\" fill=\"none\"/>\n",
              "    <path d=\"M18.56 5.44l.94 2.06.94-2.06 2.06-.94-2.06-.94-.94-2.06-.94 2.06-2.06.94zm-11 1L8.5 8.5l.94-2.06 2.06-.94-2.06-.94L8.5 2.5l-.94 2.06-2.06.94zm10 10l.94 2.06.94-2.06 2.06-.94-2.06-.94-.94-2.06-.94 2.06-2.06.94z\"/><path d=\"M17.41 7.96l-1.37-1.37c-.4-.4-.92-.59-1.43-.59-.52 0-1.04.2-1.43.59L10.3 9.45l-7.72 7.72c-.78.78-.78 2.05 0 2.83L4 21.41c.39.39.9.59 1.41.59.51 0 1.02-.2 1.41-.59l7.78-7.78 2.81-2.81c.8-.78.8-2.07 0-2.86zM5.41 20L4 18.59l7.72-7.72 1.47 1.35L5.41 20z\"/>\n",
              "  </svg>\n",
              "      </button>\n",
              "      \n",
              "  <style>\n",
              "    .colab-df-container {\n",
              "      display:flex;\n",
              "      flex-wrap:wrap;\n",
              "      gap: 12px;\n",
              "    }\n",
              "\n",
              "    .colab-df-convert {\n",
              "      background-color: #E8F0FE;\n",
              "      border: none;\n",
              "      border-radius: 50%;\n",
              "      cursor: pointer;\n",
              "      display: none;\n",
              "      fill: #1967D2;\n",
              "      height: 32px;\n",
              "      padding: 0 0 0 0;\n",
              "      width: 32px;\n",
              "    }\n",
              "\n",
              "    .colab-df-convert:hover {\n",
              "      background-color: #E2EBFA;\n",
              "      box-shadow: 0px 1px 2px rgba(60, 64, 67, 0.3), 0px 1px 3px 1px rgba(60, 64, 67, 0.15);\n",
              "      fill: #174EA6;\n",
              "    }\n",
              "\n",
              "    [theme=dark] .colab-df-convert {\n",
              "      background-color: #3B4455;\n",
              "      fill: #D2E3FC;\n",
              "    }\n",
              "\n",
              "    [theme=dark] .colab-df-convert:hover {\n",
              "      background-color: #434B5C;\n",
              "      box-shadow: 0px 1px 3px 1px rgba(0, 0, 0, 0.15);\n",
              "      filter: drop-shadow(0px 1px 2px rgba(0, 0, 0, 0.3));\n",
              "      fill: #FFFFFF;\n",
              "    }\n",
              "  </style>\n",
              "\n",
              "      <script>\n",
              "        const buttonEl =\n",
              "          document.querySelector('#df-542935e7-3bd8-4f72-a57f-5f28642d03ce button.colab-df-convert');\n",
              "        buttonEl.style.display =\n",
              "          google.colab.kernel.accessAllowed ? 'block' : 'none';\n",
              "\n",
              "        async function convertToInteractive(key) {\n",
              "          const element = document.querySelector('#df-542935e7-3bd8-4f72-a57f-5f28642d03ce');\n",
              "          const dataTable =\n",
              "            await google.colab.kernel.invokeFunction('convertToInteractive',\n",
              "                                                     [key], {});\n",
              "          if (!dataTable) return;\n",
              "\n",
              "          const docLinkHtml = 'Like what you see? Visit the ' +\n",
              "            '<a target=\"_blank\" href=https://colab.research.google.com/notebooks/data_table.ipynb>data table notebook</a>'\n",
              "            + ' to learn more about interactive tables.';\n",
              "          element.innerHTML = '';\n",
              "          dataTable['output_type'] = 'display_data';\n",
              "          await google.colab.output.renderOutput(dataTable, element);\n",
              "          const docLink = document.createElement('div');\n",
              "          docLink.innerHTML = docLinkHtml;\n",
              "          element.appendChild(docLink);\n",
              "        }\n",
              "      </script>\n",
              "    </div>\n",
              "  </div>\n",
              "  "
            ]
          },
          "metadata": {},
          "execution_count": 85
        }
      ]
    },
    {
      "cell_type": "code",
      "source": [
        "# Clients who did not leave company (exited = 0), but RF model says they leave company (proba_1 > 0.5)\n",
        "df_train_proba[(df_train_proba['proba_1']>0.5) & (df_train_proba['Exited']!=1)]"
      ],
      "metadata": {
        "colab": {
          "base_uri": "https://localhost:8080/",
          "height": 646
        },
        "id": "rfWMhT2BtDSB",
        "outputId": "b3aea9bc-e2aa-4b95-8d1d-45b37ab97873"
      },
      "execution_count": null,
      "outputs": [
        {
          "output_type": "execute_result",
          "data": {
            "text/plain": [
              "      index  RowNumber  CustomerId    Surname  CreditScore Geography  Gender  \\\n",
              "313     313        314    15797960    Skinner          806   Germany  Female   \n",
              "609     609        610    15586585     Duncan          698   Germany  Female   \n",
              "792     792        793    15707473    Summers          850   Germany  Female   \n",
              "1147   1147       1148    15671209     Holden          593   Germany  Female   \n",
              "1708   1708       1709    15772892  Robertson          699    France  Female   \n",
              "4174   4174       4175    15810593     Forbes          568    France    Male   \n",
              "5607   5607       5608    15771728  Mackenzie          641   Germany    Male   \n",
              "5624   5624       5625    15581295     Ch'ien          617     Spain  Female   \n",
              "5900   5900       5901    15569759    Rawling          583    France  Female   \n",
              "6763   6763       6764    15754053      Chung          718    France  Female   \n",
              "7595   7595       7596    15569595     Walker          678    France  Female   \n",
              "7803   7803       7804    15691504   Yusupova          619   Germany  Female   \n",
              "8017   8017       8018    15631406      Munro          459   Germany    Male   \n",
              "8188   8188       8189    15623314     Tucker          506   Germany  Female   \n",
              "8553   8553       8554    15791321      Nwora          682     Spain  Female   \n",
              "8711   8711       8712    15673995         Tu          516     Spain  Female   \n",
              "9476   9476       9477    15571529      Kirby          650   Germany  Female   \n",
              "\n",
              "      Age  Tenure    Balance  NumOfProducts  HasCrCard  IsActiveMember  \\\n",
              "313    59       0  135296.33              1          1               0   \n",
              "609    51       2  111018.98              1          1               0   \n",
              "792    48       6  111962.99              1          1               0   \n",
              "1147   29       5  101713.84              3          1               0   \n",
              "1708   49       2       0.00              1          0               0   \n",
              "4174   51       4       0.00              3          1               1   \n",
              "5607   41       7  104405.54              3          1               0   \n",
              "5624   45       1       0.00              1          1               0   \n",
              "5900   27       4       0.00              3          1               0   \n",
              "6763   67       7       0.00              3          1               1   \n",
              "7595   50       6       0.00              1          1               0   \n",
              "7803   52       8  124099.13              1          0               0   \n",
              "8017   50       5  109387.90              1          1               0   \n",
              "8188   59       3  190353.08              1          1               0   \n",
              "8553   58       4       0.00              1          1               0   \n",
              "8711   65       9  102541.10              1          1               0   \n",
              "9476   48       7  138232.24              1          1               0   \n",
              "\n",
              "      EstimatedSalary  Exited   proba_0   proba_1  \n",
              "313         182822.50       0  0.461347  0.538653  \n",
              "609          86410.28       0  0.463815  0.536185  \n",
              "792         111755.80       0  0.496435  0.503565  \n",
              "1147        134594.99       0  0.441647  0.558353  \n",
              "1708        105760.01       0  0.481873  0.518127  \n",
              "4174         66586.56       0  0.459479  0.540521  \n",
              "5607         17384.21       0  0.448953  0.551047  \n",
              "5624        143298.06       0  0.496111  0.503889  \n",
              "5900        163113.41       0  0.490908  0.509092  \n",
              "6763         82782.08       0  0.487319  0.512681  \n",
              "7595          8199.50       0  0.474494  0.525506  \n",
              "7803         23904.52       0  0.480839  0.519161  \n",
              "8017        155721.15       0  0.457350  0.542650  \n",
              "8188         78365.75       0  0.494645  0.505355  \n",
              "8553        176036.01       0  0.414797  0.585203  \n",
              "8711        181490.42       0  0.491680  0.508320  \n",
              "9476         57594.78       0  0.443934  0.556066  "
            ],
            "text/html": [
              "\n",
              "  <div id=\"df-a979dae0-36fd-420c-bcad-f7ebcbdc95c3\">\n",
              "    <div class=\"colab-df-container\">\n",
              "      <div>\n",
              "<style scoped>\n",
              "    .dataframe tbody tr th:only-of-type {\n",
              "        vertical-align: middle;\n",
              "    }\n",
              "\n",
              "    .dataframe tbody tr th {\n",
              "        vertical-align: top;\n",
              "    }\n",
              "\n",
              "    .dataframe thead th {\n",
              "        text-align: right;\n",
              "    }\n",
              "</style>\n",
              "<table border=\"1\" class=\"dataframe\">\n",
              "  <thead>\n",
              "    <tr style=\"text-align: right;\">\n",
              "      <th></th>\n",
              "      <th>index</th>\n",
              "      <th>RowNumber</th>\n",
              "      <th>CustomerId</th>\n",
              "      <th>Surname</th>\n",
              "      <th>CreditScore</th>\n",
              "      <th>Geography</th>\n",
              "      <th>Gender</th>\n",
              "      <th>Age</th>\n",
              "      <th>Tenure</th>\n",
              "      <th>Balance</th>\n",
              "      <th>NumOfProducts</th>\n",
              "      <th>HasCrCard</th>\n",
              "      <th>IsActiveMember</th>\n",
              "      <th>EstimatedSalary</th>\n",
              "      <th>Exited</th>\n",
              "      <th>proba_0</th>\n",
              "      <th>proba_1</th>\n",
              "    </tr>\n",
              "  </thead>\n",
              "  <tbody>\n",
              "    <tr>\n",
              "      <th>313</th>\n",
              "      <td>313</td>\n",
              "      <td>314</td>\n",
              "      <td>15797960</td>\n",
              "      <td>Skinner</td>\n",
              "      <td>806</td>\n",
              "      <td>Germany</td>\n",
              "      <td>Female</td>\n",
              "      <td>59</td>\n",
              "      <td>0</td>\n",
              "      <td>135296.33</td>\n",
              "      <td>1</td>\n",
              "      <td>1</td>\n",
              "      <td>0</td>\n",
              "      <td>182822.50</td>\n",
              "      <td>0</td>\n",
              "      <td>0.461347</td>\n",
              "      <td>0.538653</td>\n",
              "    </tr>\n",
              "    <tr>\n",
              "      <th>609</th>\n",
              "      <td>609</td>\n",
              "      <td>610</td>\n",
              "      <td>15586585</td>\n",
              "      <td>Duncan</td>\n",
              "      <td>698</td>\n",
              "      <td>Germany</td>\n",
              "      <td>Female</td>\n",
              "      <td>51</td>\n",
              "      <td>2</td>\n",
              "      <td>111018.98</td>\n",
              "      <td>1</td>\n",
              "      <td>1</td>\n",
              "      <td>0</td>\n",
              "      <td>86410.28</td>\n",
              "      <td>0</td>\n",
              "      <td>0.463815</td>\n",
              "      <td>0.536185</td>\n",
              "    </tr>\n",
              "    <tr>\n",
              "      <th>792</th>\n",
              "      <td>792</td>\n",
              "      <td>793</td>\n",
              "      <td>15707473</td>\n",
              "      <td>Summers</td>\n",
              "      <td>850</td>\n",
              "      <td>Germany</td>\n",
              "      <td>Female</td>\n",
              "      <td>48</td>\n",
              "      <td>6</td>\n",
              "      <td>111962.99</td>\n",
              "      <td>1</td>\n",
              "      <td>1</td>\n",
              "      <td>0</td>\n",
              "      <td>111755.80</td>\n",
              "      <td>0</td>\n",
              "      <td>0.496435</td>\n",
              "      <td>0.503565</td>\n",
              "    </tr>\n",
              "    <tr>\n",
              "      <th>1147</th>\n",
              "      <td>1147</td>\n",
              "      <td>1148</td>\n",
              "      <td>15671209</td>\n",
              "      <td>Holden</td>\n",
              "      <td>593</td>\n",
              "      <td>Germany</td>\n",
              "      <td>Female</td>\n",
              "      <td>29</td>\n",
              "      <td>5</td>\n",
              "      <td>101713.84</td>\n",
              "      <td>3</td>\n",
              "      <td>1</td>\n",
              "      <td>0</td>\n",
              "      <td>134594.99</td>\n",
              "      <td>0</td>\n",
              "      <td>0.441647</td>\n",
              "      <td>0.558353</td>\n",
              "    </tr>\n",
              "    <tr>\n",
              "      <th>1708</th>\n",
              "      <td>1708</td>\n",
              "      <td>1709</td>\n",
              "      <td>15772892</td>\n",
              "      <td>Robertson</td>\n",
              "      <td>699</td>\n",
              "      <td>France</td>\n",
              "      <td>Female</td>\n",
              "      <td>49</td>\n",
              "      <td>2</td>\n",
              "      <td>0.00</td>\n",
              "      <td>1</td>\n",
              "      <td>0</td>\n",
              "      <td>0</td>\n",
              "      <td>105760.01</td>\n",
              "      <td>0</td>\n",
              "      <td>0.481873</td>\n",
              "      <td>0.518127</td>\n",
              "    </tr>\n",
              "    <tr>\n",
              "      <th>4174</th>\n",
              "      <td>4174</td>\n",
              "      <td>4175</td>\n",
              "      <td>15810593</td>\n",
              "      <td>Forbes</td>\n",
              "      <td>568</td>\n",
              "      <td>France</td>\n",
              "      <td>Male</td>\n",
              "      <td>51</td>\n",
              "      <td>4</td>\n",
              "      <td>0.00</td>\n",
              "      <td>3</td>\n",
              "      <td>1</td>\n",
              "      <td>1</td>\n",
              "      <td>66586.56</td>\n",
              "      <td>0</td>\n",
              "      <td>0.459479</td>\n",
              "      <td>0.540521</td>\n",
              "    </tr>\n",
              "    <tr>\n",
              "      <th>5607</th>\n",
              "      <td>5607</td>\n",
              "      <td>5608</td>\n",
              "      <td>15771728</td>\n",
              "      <td>Mackenzie</td>\n",
              "      <td>641</td>\n",
              "      <td>Germany</td>\n",
              "      <td>Male</td>\n",
              "      <td>41</td>\n",
              "      <td>7</td>\n",
              "      <td>104405.54</td>\n",
              "      <td>3</td>\n",
              "      <td>1</td>\n",
              "      <td>0</td>\n",
              "      <td>17384.21</td>\n",
              "      <td>0</td>\n",
              "      <td>0.448953</td>\n",
              "      <td>0.551047</td>\n",
              "    </tr>\n",
              "    <tr>\n",
              "      <th>5624</th>\n",
              "      <td>5624</td>\n",
              "      <td>5625</td>\n",
              "      <td>15581295</td>\n",
              "      <td>Ch'ien</td>\n",
              "      <td>617</td>\n",
              "      <td>Spain</td>\n",
              "      <td>Female</td>\n",
              "      <td>45</td>\n",
              "      <td>1</td>\n",
              "      <td>0.00</td>\n",
              "      <td>1</td>\n",
              "      <td>1</td>\n",
              "      <td>0</td>\n",
              "      <td>143298.06</td>\n",
              "      <td>0</td>\n",
              "      <td>0.496111</td>\n",
              "      <td>0.503889</td>\n",
              "    </tr>\n",
              "    <tr>\n",
              "      <th>5900</th>\n",
              "      <td>5900</td>\n",
              "      <td>5901</td>\n",
              "      <td>15569759</td>\n",
              "      <td>Rawling</td>\n",
              "      <td>583</td>\n",
              "      <td>France</td>\n",
              "      <td>Female</td>\n",
              "      <td>27</td>\n",
              "      <td>4</td>\n",
              "      <td>0.00</td>\n",
              "      <td>3</td>\n",
              "      <td>1</td>\n",
              "      <td>0</td>\n",
              "      <td>163113.41</td>\n",
              "      <td>0</td>\n",
              "      <td>0.490908</td>\n",
              "      <td>0.509092</td>\n",
              "    </tr>\n",
              "    <tr>\n",
              "      <th>6763</th>\n",
              "      <td>6763</td>\n",
              "      <td>6764</td>\n",
              "      <td>15754053</td>\n",
              "      <td>Chung</td>\n",
              "      <td>718</td>\n",
              "      <td>France</td>\n",
              "      <td>Female</td>\n",
              "      <td>67</td>\n",
              "      <td>7</td>\n",
              "      <td>0.00</td>\n",
              "      <td>3</td>\n",
              "      <td>1</td>\n",
              "      <td>1</td>\n",
              "      <td>82782.08</td>\n",
              "      <td>0</td>\n",
              "      <td>0.487319</td>\n",
              "      <td>0.512681</td>\n",
              "    </tr>\n",
              "    <tr>\n",
              "      <th>7595</th>\n",
              "      <td>7595</td>\n",
              "      <td>7596</td>\n",
              "      <td>15569595</td>\n",
              "      <td>Walker</td>\n",
              "      <td>678</td>\n",
              "      <td>France</td>\n",
              "      <td>Female</td>\n",
              "      <td>50</td>\n",
              "      <td>6</td>\n",
              "      <td>0.00</td>\n",
              "      <td>1</td>\n",
              "      <td>1</td>\n",
              "      <td>0</td>\n",
              "      <td>8199.50</td>\n",
              "      <td>0</td>\n",
              "      <td>0.474494</td>\n",
              "      <td>0.525506</td>\n",
              "    </tr>\n",
              "    <tr>\n",
              "      <th>7803</th>\n",
              "      <td>7803</td>\n",
              "      <td>7804</td>\n",
              "      <td>15691504</td>\n",
              "      <td>Yusupova</td>\n",
              "      <td>619</td>\n",
              "      <td>Germany</td>\n",
              "      <td>Female</td>\n",
              "      <td>52</td>\n",
              "      <td>8</td>\n",
              "      <td>124099.13</td>\n",
              "      <td>1</td>\n",
              "      <td>0</td>\n",
              "      <td>0</td>\n",
              "      <td>23904.52</td>\n",
              "      <td>0</td>\n",
              "      <td>0.480839</td>\n",
              "      <td>0.519161</td>\n",
              "    </tr>\n",
              "    <tr>\n",
              "      <th>8017</th>\n",
              "      <td>8017</td>\n",
              "      <td>8018</td>\n",
              "      <td>15631406</td>\n",
              "      <td>Munro</td>\n",
              "      <td>459</td>\n",
              "      <td>Germany</td>\n",
              "      <td>Male</td>\n",
              "      <td>50</td>\n",
              "      <td>5</td>\n",
              "      <td>109387.90</td>\n",
              "      <td>1</td>\n",
              "      <td>1</td>\n",
              "      <td>0</td>\n",
              "      <td>155721.15</td>\n",
              "      <td>0</td>\n",
              "      <td>0.457350</td>\n",
              "      <td>0.542650</td>\n",
              "    </tr>\n",
              "    <tr>\n",
              "      <th>8188</th>\n",
              "      <td>8188</td>\n",
              "      <td>8189</td>\n",
              "      <td>15623314</td>\n",
              "      <td>Tucker</td>\n",
              "      <td>506</td>\n",
              "      <td>Germany</td>\n",
              "      <td>Female</td>\n",
              "      <td>59</td>\n",
              "      <td>3</td>\n",
              "      <td>190353.08</td>\n",
              "      <td>1</td>\n",
              "      <td>1</td>\n",
              "      <td>0</td>\n",
              "      <td>78365.75</td>\n",
              "      <td>0</td>\n",
              "      <td>0.494645</td>\n",
              "      <td>0.505355</td>\n",
              "    </tr>\n",
              "    <tr>\n",
              "      <th>8553</th>\n",
              "      <td>8553</td>\n",
              "      <td>8554</td>\n",
              "      <td>15791321</td>\n",
              "      <td>Nwora</td>\n",
              "      <td>682</td>\n",
              "      <td>Spain</td>\n",
              "      <td>Female</td>\n",
              "      <td>58</td>\n",
              "      <td>4</td>\n",
              "      <td>0.00</td>\n",
              "      <td>1</td>\n",
              "      <td>1</td>\n",
              "      <td>0</td>\n",
              "      <td>176036.01</td>\n",
              "      <td>0</td>\n",
              "      <td>0.414797</td>\n",
              "      <td>0.585203</td>\n",
              "    </tr>\n",
              "    <tr>\n",
              "      <th>8711</th>\n",
              "      <td>8711</td>\n",
              "      <td>8712</td>\n",
              "      <td>15673995</td>\n",
              "      <td>Tu</td>\n",
              "      <td>516</td>\n",
              "      <td>Spain</td>\n",
              "      <td>Female</td>\n",
              "      <td>65</td>\n",
              "      <td>9</td>\n",
              "      <td>102541.10</td>\n",
              "      <td>1</td>\n",
              "      <td>1</td>\n",
              "      <td>0</td>\n",
              "      <td>181490.42</td>\n",
              "      <td>0</td>\n",
              "      <td>0.491680</td>\n",
              "      <td>0.508320</td>\n",
              "    </tr>\n",
              "    <tr>\n",
              "      <th>9476</th>\n",
              "      <td>9476</td>\n",
              "      <td>9477</td>\n",
              "      <td>15571529</td>\n",
              "      <td>Kirby</td>\n",
              "      <td>650</td>\n",
              "      <td>Germany</td>\n",
              "      <td>Female</td>\n",
              "      <td>48</td>\n",
              "      <td>7</td>\n",
              "      <td>138232.24</td>\n",
              "      <td>1</td>\n",
              "      <td>1</td>\n",
              "      <td>0</td>\n",
              "      <td>57594.78</td>\n",
              "      <td>0</td>\n",
              "      <td>0.443934</td>\n",
              "      <td>0.556066</td>\n",
              "    </tr>\n",
              "  </tbody>\n",
              "</table>\n",
              "</div>\n",
              "      <button class=\"colab-df-convert\" onclick=\"convertToInteractive('df-a979dae0-36fd-420c-bcad-f7ebcbdc95c3')\"\n",
              "              title=\"Convert this dataframe to an interactive table.\"\n",
              "              style=\"display:none;\">\n",
              "        \n",
              "  <svg xmlns=\"http://www.w3.org/2000/svg\" height=\"24px\"viewBox=\"0 0 24 24\"\n",
              "       width=\"24px\">\n",
              "    <path d=\"M0 0h24v24H0V0z\" fill=\"none\"/>\n",
              "    <path d=\"M18.56 5.44l.94 2.06.94-2.06 2.06-.94-2.06-.94-.94-2.06-.94 2.06-2.06.94zm-11 1L8.5 8.5l.94-2.06 2.06-.94-2.06-.94L8.5 2.5l-.94 2.06-2.06.94zm10 10l.94 2.06.94-2.06 2.06-.94-2.06-.94-.94-2.06-.94 2.06-2.06.94z\"/><path d=\"M17.41 7.96l-1.37-1.37c-.4-.4-.92-.59-1.43-.59-.52 0-1.04.2-1.43.59L10.3 9.45l-7.72 7.72c-.78.78-.78 2.05 0 2.83L4 21.41c.39.39.9.59 1.41.59.51 0 1.02-.2 1.41-.59l7.78-7.78 2.81-2.81c.8-.78.8-2.07 0-2.86zM5.41 20L4 18.59l7.72-7.72 1.47 1.35L5.41 20z\"/>\n",
              "  </svg>\n",
              "      </button>\n",
              "      \n",
              "  <style>\n",
              "    .colab-df-container {\n",
              "      display:flex;\n",
              "      flex-wrap:wrap;\n",
              "      gap: 12px;\n",
              "    }\n",
              "\n",
              "    .colab-df-convert {\n",
              "      background-color: #E8F0FE;\n",
              "      border: none;\n",
              "      border-radius: 50%;\n",
              "      cursor: pointer;\n",
              "      display: none;\n",
              "      fill: #1967D2;\n",
              "      height: 32px;\n",
              "      padding: 0 0 0 0;\n",
              "      width: 32px;\n",
              "    }\n",
              "\n",
              "    .colab-df-convert:hover {\n",
              "      background-color: #E2EBFA;\n",
              "      box-shadow: 0px 1px 2px rgba(60, 64, 67, 0.3), 0px 1px 3px 1px rgba(60, 64, 67, 0.15);\n",
              "      fill: #174EA6;\n",
              "    }\n",
              "\n",
              "    [theme=dark] .colab-df-convert {\n",
              "      background-color: #3B4455;\n",
              "      fill: #D2E3FC;\n",
              "    }\n",
              "\n",
              "    [theme=dark] .colab-df-convert:hover {\n",
              "      background-color: #434B5C;\n",
              "      box-shadow: 0px 1px 3px 1px rgba(0, 0, 0, 0.15);\n",
              "      filter: drop-shadow(0px 1px 2px rgba(0, 0, 0, 0.3));\n",
              "      fill: #FFFFFF;\n",
              "    }\n",
              "  </style>\n",
              "\n",
              "      <script>\n",
              "        const buttonEl =\n",
              "          document.querySelector('#df-a979dae0-36fd-420c-bcad-f7ebcbdc95c3 button.colab-df-convert');\n",
              "        buttonEl.style.display =\n",
              "          google.colab.kernel.accessAllowed ? 'block' : 'none';\n",
              "\n",
              "        async function convertToInteractive(key) {\n",
              "          const element = document.querySelector('#df-a979dae0-36fd-420c-bcad-f7ebcbdc95c3');\n",
              "          const dataTable =\n",
              "            await google.colab.kernel.invokeFunction('convertToInteractive',\n",
              "                                                     [key], {});\n",
              "          if (!dataTable) return;\n",
              "\n",
              "          const docLinkHtml = 'Like what you see? Visit the ' +\n",
              "            '<a target=\"_blank\" href=https://colab.research.google.com/notebooks/data_table.ipynb>data table notebook</a>'\n",
              "            + ' to learn more about interactive tables.';\n",
              "          element.innerHTML = '';\n",
              "          dataTable['output_type'] = 'display_data';\n",
              "          await google.colab.output.renderOutput(dataTable, element);\n",
              "          const docLink = document.createElement('div');\n",
              "          docLink.innerHTML = docLinkHtml;\n",
              "          element.appendChild(docLink);\n",
              "        }\n",
              "      </script>\n",
              "    </div>\n",
              "  </div>\n",
              "  "
            ]
          },
          "metadata": {},
          "execution_count": 87
        }
      ]
    },
    {
      "cell_type": "code",
      "source": [
        "# Clients who left company (exited = 1), but RF model says they do not leave company (proba_1 < 0.5)\n",
        "df_train_proba[(df_train_proba['proba_1']<0.5) & (df_train_proba['Exited']==1)]"
      ],
      "metadata": {
        "colab": {
          "base_uri": "https://localhost:8080/",
          "height": 488
        },
        "id": "A1okVYH-tMQz",
        "outputId": "da453ca2-1b3d-4cc5-c7e1-d5d8a8cf402e"
      },
      "execution_count": null,
      "outputs": [
        {
          "output_type": "execute_result",
          "data": {
            "text/plain": [
              "      index  RowNumber  CustomerId     Surname  CreditScore Geography  Gender  \\\n",
              "46       46         47    15602280      Martin          829   Germany  Female   \n",
              "114     114        115    15609618     Fanucci          721   Germany    Male   \n",
              "139     139        140    15640905       Vasin          579     Spain  Female   \n",
              "164     164        165    15658929    Taverner          683     Spain    Male   \n",
              "168     168        169    15574692       Pinto          667     Spain  Female   \n",
              "...     ...        ...         ...         ...          ...       ...     ...   \n",
              "9809   9809       9810    15763907       Watts          820    France  Female   \n",
              "9856   9856       9857    15687329        Hope          763   Germany  Female   \n",
              "9898   9898       9899    15746569        Tsui          589    France    Male   \n",
              "9947   9947       9948    15732202  Abramovich          615    France    Male   \n",
              "9997   9997       9998    15584532         Liu          709    France  Female   \n",
              "\n",
              "      Age  Tenure    Balance  NumOfProducts  HasCrCard  IsActiveMember  \\\n",
              "46     27       9  112045.67              1          1               1   \n",
              "114    28       9  154475.54              2          0               1   \n",
              "139    35       1  129490.36              2          0               1   \n",
              "164    29       0  133702.89              1          1               0   \n",
              "168    39       2       0.00              2          1               0   \n",
              "...   ...     ...        ...            ...        ...             ...   \n",
              "9809   39       1  104614.29              1          1               0   \n",
              "9856   32       1  108465.65              2          1               0   \n",
              "9898   38       4       0.00              1          1               0   \n",
              "9947   34       1   83503.11              2          1               1   \n",
              "9997   36       7       0.00              1          0               1   \n",
              "\n",
              "      EstimatedSalary  Exited   proba_0   proba_1  \n",
              "46          119708.21       1  0.543259  0.456741  \n",
              "114         101300.94       1  0.611383  0.388617  \n",
              "139           8590.83       1  0.540510  0.459490  \n",
              "164          55582.54       1  0.500586  0.499414  \n",
              "168          40721.24       1  0.611664  0.388336  \n",
              "...               ...     ...       ...       ...  \n",
              "9809         61538.43       1  0.540130  0.459870  \n",
              "9856         60552.44       1  0.594622  0.405378  \n",
              "9898         95483.48       1  0.545880  0.454120  \n",
              "9947         73124.53       1  0.674884  0.325116  \n",
              "9997         42085.58       1  0.604288  0.395712  \n",
              "\n",
              "[291 rows x 17 columns]"
            ],
            "text/html": [
              "\n",
              "  <div id=\"df-5f279fd7-818f-4e70-93b0-9587a26e0a4d\">\n",
              "    <div class=\"colab-df-container\">\n",
              "      <div>\n",
              "<style scoped>\n",
              "    .dataframe tbody tr th:only-of-type {\n",
              "        vertical-align: middle;\n",
              "    }\n",
              "\n",
              "    .dataframe tbody tr th {\n",
              "        vertical-align: top;\n",
              "    }\n",
              "\n",
              "    .dataframe thead th {\n",
              "        text-align: right;\n",
              "    }\n",
              "</style>\n",
              "<table border=\"1\" class=\"dataframe\">\n",
              "  <thead>\n",
              "    <tr style=\"text-align: right;\">\n",
              "      <th></th>\n",
              "      <th>index</th>\n",
              "      <th>RowNumber</th>\n",
              "      <th>CustomerId</th>\n",
              "      <th>Surname</th>\n",
              "      <th>CreditScore</th>\n",
              "      <th>Geography</th>\n",
              "      <th>Gender</th>\n",
              "      <th>Age</th>\n",
              "      <th>Tenure</th>\n",
              "      <th>Balance</th>\n",
              "      <th>NumOfProducts</th>\n",
              "      <th>HasCrCard</th>\n",
              "      <th>IsActiveMember</th>\n",
              "      <th>EstimatedSalary</th>\n",
              "      <th>Exited</th>\n",
              "      <th>proba_0</th>\n",
              "      <th>proba_1</th>\n",
              "    </tr>\n",
              "  </thead>\n",
              "  <tbody>\n",
              "    <tr>\n",
              "      <th>46</th>\n",
              "      <td>46</td>\n",
              "      <td>47</td>\n",
              "      <td>15602280</td>\n",
              "      <td>Martin</td>\n",
              "      <td>829</td>\n",
              "      <td>Germany</td>\n",
              "      <td>Female</td>\n",
              "      <td>27</td>\n",
              "      <td>9</td>\n",
              "      <td>112045.67</td>\n",
              "      <td>1</td>\n",
              "      <td>1</td>\n",
              "      <td>1</td>\n",
              "      <td>119708.21</td>\n",
              "      <td>1</td>\n",
              "      <td>0.543259</td>\n",
              "      <td>0.456741</td>\n",
              "    </tr>\n",
              "    <tr>\n",
              "      <th>114</th>\n",
              "      <td>114</td>\n",
              "      <td>115</td>\n",
              "      <td>15609618</td>\n",
              "      <td>Fanucci</td>\n",
              "      <td>721</td>\n",
              "      <td>Germany</td>\n",
              "      <td>Male</td>\n",
              "      <td>28</td>\n",
              "      <td>9</td>\n",
              "      <td>154475.54</td>\n",
              "      <td>2</td>\n",
              "      <td>0</td>\n",
              "      <td>1</td>\n",
              "      <td>101300.94</td>\n",
              "      <td>1</td>\n",
              "      <td>0.611383</td>\n",
              "      <td>0.388617</td>\n",
              "    </tr>\n",
              "    <tr>\n",
              "      <th>139</th>\n",
              "      <td>139</td>\n",
              "      <td>140</td>\n",
              "      <td>15640905</td>\n",
              "      <td>Vasin</td>\n",
              "      <td>579</td>\n",
              "      <td>Spain</td>\n",
              "      <td>Female</td>\n",
              "      <td>35</td>\n",
              "      <td>1</td>\n",
              "      <td>129490.36</td>\n",
              "      <td>2</td>\n",
              "      <td>0</td>\n",
              "      <td>1</td>\n",
              "      <td>8590.83</td>\n",
              "      <td>1</td>\n",
              "      <td>0.540510</td>\n",
              "      <td>0.459490</td>\n",
              "    </tr>\n",
              "    <tr>\n",
              "      <th>164</th>\n",
              "      <td>164</td>\n",
              "      <td>165</td>\n",
              "      <td>15658929</td>\n",
              "      <td>Taverner</td>\n",
              "      <td>683</td>\n",
              "      <td>Spain</td>\n",
              "      <td>Male</td>\n",
              "      <td>29</td>\n",
              "      <td>0</td>\n",
              "      <td>133702.89</td>\n",
              "      <td>1</td>\n",
              "      <td>1</td>\n",
              "      <td>0</td>\n",
              "      <td>55582.54</td>\n",
              "      <td>1</td>\n",
              "      <td>0.500586</td>\n",
              "      <td>0.499414</td>\n",
              "    </tr>\n",
              "    <tr>\n",
              "      <th>168</th>\n",
              "      <td>168</td>\n",
              "      <td>169</td>\n",
              "      <td>15574692</td>\n",
              "      <td>Pinto</td>\n",
              "      <td>667</td>\n",
              "      <td>Spain</td>\n",
              "      <td>Female</td>\n",
              "      <td>39</td>\n",
              "      <td>2</td>\n",
              "      <td>0.00</td>\n",
              "      <td>2</td>\n",
              "      <td>1</td>\n",
              "      <td>0</td>\n",
              "      <td>40721.24</td>\n",
              "      <td>1</td>\n",
              "      <td>0.611664</td>\n",
              "      <td>0.388336</td>\n",
              "    </tr>\n",
              "    <tr>\n",
              "      <th>...</th>\n",
              "      <td>...</td>\n",
              "      <td>...</td>\n",
              "      <td>...</td>\n",
              "      <td>...</td>\n",
              "      <td>...</td>\n",
              "      <td>...</td>\n",
              "      <td>...</td>\n",
              "      <td>...</td>\n",
              "      <td>...</td>\n",
              "      <td>...</td>\n",
              "      <td>...</td>\n",
              "      <td>...</td>\n",
              "      <td>...</td>\n",
              "      <td>...</td>\n",
              "      <td>...</td>\n",
              "      <td>...</td>\n",
              "      <td>...</td>\n",
              "    </tr>\n",
              "    <tr>\n",
              "      <th>9809</th>\n",
              "      <td>9809</td>\n",
              "      <td>9810</td>\n",
              "      <td>15763907</td>\n",
              "      <td>Watts</td>\n",
              "      <td>820</td>\n",
              "      <td>France</td>\n",
              "      <td>Female</td>\n",
              "      <td>39</td>\n",
              "      <td>1</td>\n",
              "      <td>104614.29</td>\n",
              "      <td>1</td>\n",
              "      <td>1</td>\n",
              "      <td>0</td>\n",
              "      <td>61538.43</td>\n",
              "      <td>1</td>\n",
              "      <td>0.540130</td>\n",
              "      <td>0.459870</td>\n",
              "    </tr>\n",
              "    <tr>\n",
              "      <th>9856</th>\n",
              "      <td>9856</td>\n",
              "      <td>9857</td>\n",
              "      <td>15687329</td>\n",
              "      <td>Hope</td>\n",
              "      <td>763</td>\n",
              "      <td>Germany</td>\n",
              "      <td>Female</td>\n",
              "      <td>32</td>\n",
              "      <td>1</td>\n",
              "      <td>108465.65</td>\n",
              "      <td>2</td>\n",
              "      <td>1</td>\n",
              "      <td>0</td>\n",
              "      <td>60552.44</td>\n",
              "      <td>1</td>\n",
              "      <td>0.594622</td>\n",
              "      <td>0.405378</td>\n",
              "    </tr>\n",
              "    <tr>\n",
              "      <th>9898</th>\n",
              "      <td>9898</td>\n",
              "      <td>9899</td>\n",
              "      <td>15746569</td>\n",
              "      <td>Tsui</td>\n",
              "      <td>589</td>\n",
              "      <td>France</td>\n",
              "      <td>Male</td>\n",
              "      <td>38</td>\n",
              "      <td>4</td>\n",
              "      <td>0.00</td>\n",
              "      <td>1</td>\n",
              "      <td>1</td>\n",
              "      <td>0</td>\n",
              "      <td>95483.48</td>\n",
              "      <td>1</td>\n",
              "      <td>0.545880</td>\n",
              "      <td>0.454120</td>\n",
              "    </tr>\n",
              "    <tr>\n",
              "      <th>9947</th>\n",
              "      <td>9947</td>\n",
              "      <td>9948</td>\n",
              "      <td>15732202</td>\n",
              "      <td>Abramovich</td>\n",
              "      <td>615</td>\n",
              "      <td>France</td>\n",
              "      <td>Male</td>\n",
              "      <td>34</td>\n",
              "      <td>1</td>\n",
              "      <td>83503.11</td>\n",
              "      <td>2</td>\n",
              "      <td>1</td>\n",
              "      <td>1</td>\n",
              "      <td>73124.53</td>\n",
              "      <td>1</td>\n",
              "      <td>0.674884</td>\n",
              "      <td>0.325116</td>\n",
              "    </tr>\n",
              "    <tr>\n",
              "      <th>9997</th>\n",
              "      <td>9997</td>\n",
              "      <td>9998</td>\n",
              "      <td>15584532</td>\n",
              "      <td>Liu</td>\n",
              "      <td>709</td>\n",
              "      <td>France</td>\n",
              "      <td>Female</td>\n",
              "      <td>36</td>\n",
              "      <td>7</td>\n",
              "      <td>0.00</td>\n",
              "      <td>1</td>\n",
              "      <td>0</td>\n",
              "      <td>1</td>\n",
              "      <td>42085.58</td>\n",
              "      <td>1</td>\n",
              "      <td>0.604288</td>\n",
              "      <td>0.395712</td>\n",
              "    </tr>\n",
              "  </tbody>\n",
              "</table>\n",
              "<p>291 rows × 17 columns</p>\n",
              "</div>\n",
              "      <button class=\"colab-df-convert\" onclick=\"convertToInteractive('df-5f279fd7-818f-4e70-93b0-9587a26e0a4d')\"\n",
              "              title=\"Convert this dataframe to an interactive table.\"\n",
              "              style=\"display:none;\">\n",
              "        \n",
              "  <svg xmlns=\"http://www.w3.org/2000/svg\" height=\"24px\"viewBox=\"0 0 24 24\"\n",
              "       width=\"24px\">\n",
              "    <path d=\"M0 0h24v24H0V0z\" fill=\"none\"/>\n",
              "    <path d=\"M18.56 5.44l.94 2.06.94-2.06 2.06-.94-2.06-.94-.94-2.06-.94 2.06-2.06.94zm-11 1L8.5 8.5l.94-2.06 2.06-.94-2.06-.94L8.5 2.5l-.94 2.06-2.06.94zm10 10l.94 2.06.94-2.06 2.06-.94-2.06-.94-.94-2.06-.94 2.06-2.06.94z\"/><path d=\"M17.41 7.96l-1.37-1.37c-.4-.4-.92-.59-1.43-.59-.52 0-1.04.2-1.43.59L10.3 9.45l-7.72 7.72c-.78.78-.78 2.05 0 2.83L4 21.41c.39.39.9.59 1.41.59.51 0 1.02-.2 1.41-.59l7.78-7.78 2.81-2.81c.8-.78.8-2.07 0-2.86zM5.41 20L4 18.59l7.72-7.72 1.47 1.35L5.41 20z\"/>\n",
              "  </svg>\n",
              "      </button>\n",
              "      \n",
              "  <style>\n",
              "    .colab-df-container {\n",
              "      display:flex;\n",
              "      flex-wrap:wrap;\n",
              "      gap: 12px;\n",
              "    }\n",
              "\n",
              "    .colab-df-convert {\n",
              "      background-color: #E8F0FE;\n",
              "      border: none;\n",
              "      border-radius: 50%;\n",
              "      cursor: pointer;\n",
              "      display: none;\n",
              "      fill: #1967D2;\n",
              "      height: 32px;\n",
              "      padding: 0 0 0 0;\n",
              "      width: 32px;\n",
              "    }\n",
              "\n",
              "    .colab-df-convert:hover {\n",
              "      background-color: #E2EBFA;\n",
              "      box-shadow: 0px 1px 2px rgba(60, 64, 67, 0.3), 0px 1px 3px 1px rgba(60, 64, 67, 0.15);\n",
              "      fill: #174EA6;\n",
              "    }\n",
              "\n",
              "    [theme=dark] .colab-df-convert {\n",
              "      background-color: #3B4455;\n",
              "      fill: #D2E3FC;\n",
              "    }\n",
              "\n",
              "    [theme=dark] .colab-df-convert:hover {\n",
              "      background-color: #434B5C;\n",
              "      box-shadow: 0px 1px 3px 1px rgba(0, 0, 0, 0.15);\n",
              "      filter: drop-shadow(0px 1px 2px rgba(0, 0, 0, 0.3));\n",
              "      fill: #FFFFFF;\n",
              "    }\n",
              "  </style>\n",
              "\n",
              "      <script>\n",
              "        const buttonEl =\n",
              "          document.querySelector('#df-5f279fd7-818f-4e70-93b0-9587a26e0a4d button.colab-df-convert');\n",
              "        buttonEl.style.display =\n",
              "          google.colab.kernel.accessAllowed ? 'block' : 'none';\n",
              "\n",
              "        async function convertToInteractive(key) {\n",
              "          const element = document.querySelector('#df-5f279fd7-818f-4e70-93b0-9587a26e0a4d');\n",
              "          const dataTable =\n",
              "            await google.colab.kernel.invokeFunction('convertToInteractive',\n",
              "                                                     [key], {});\n",
              "          if (!dataTable) return;\n",
              "\n",
              "          const docLinkHtml = 'Like what you see? Visit the ' +\n",
              "            '<a target=\"_blank\" href=https://colab.research.google.com/notebooks/data_table.ipynb>data table notebook</a>'\n",
              "            + ' to learn more about interactive tables.';\n",
              "          element.innerHTML = '';\n",
              "          dataTable['output_type'] = 'display_data';\n",
              "          await google.colab.output.renderOutput(dataTable, element);\n",
              "          const docLink = document.createElement('div');\n",
              "          docLink.innerHTML = docLinkHtml;\n",
              "          element.appendChild(docLink);\n",
              "        }\n",
              "      </script>\n",
              "    </div>\n",
              "  </div>\n",
              "  "
            ]
          },
          "metadata": {},
          "execution_count": 88
        }
      ]
    },
    {
      "cell_type": "markdown",
      "source": [
        "# **CONCLUSION**"
      ],
      "metadata": {
        "id": "RZilkgvjteJi"
      }
    },
    {
      "cell_type": "code",
      "source": [],
      "metadata": {
        "id": "yrPXg55utW60"
      },
      "execution_count": null,
      "outputs": []
    },
    {
      "cell_type": "markdown",
      "source": [
        "The target variable (\"Excited\") is quite a lot inbalanced. Its very important to pay attention to that fact. Because the task says try to help keep customers to the company, we should more focused on metric recall. We dont want to identify customers who actually left (1) as (0), which says that they dont leave the company - left down corner of the confussion matrix.\n",
        "\n",
        "**Random** **forest** has worse accuracy and precision scores than **Neural** Networks. However, as mentioned above it is better to focus more on recall and F1 score, which is better for Random Forest. Another positive aspects about Random Forest is that it shows us features importances.\n",
        "\n"
      ],
      "metadata": {
        "id": "UbHIcxB_tv8d"
      }
    },
    {
      "cell_type": "code",
      "source": [],
      "metadata": {
        "id": "ruRjD-jmtwjA"
      },
      "execution_count": null,
      "outputs": []
    }
  ]
}